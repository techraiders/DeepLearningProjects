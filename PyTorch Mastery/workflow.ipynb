{
 "cells": [
  {
   "cell_type": "code",
   "execution_count": null,
   "id": "5584254d",
   "metadata": {},
   "outputs": [],
   "source": [
    "import torch\n",
    "from torch import nn  # nn contains all of PyTorch's building blocks for neural networks\n",
    "import matplotlib.pyplot as plt\n",
    "\n",
    "print(f\"GPU Available: {torch.cuda.get_device_name(0)}\")\n",
    "\n",
    "# Check PyTorch version\n",
    "print(\"Torch Version\", torch.__version__)"
   ]
  },
  {
   "cell_type": "markdown",
   "id": "1aab3868",
   "metadata": {},
   "source": [
    "### Creating a simple dataset using the linear regression formula"
   ]
  },
  {
   "cell_type": "code",
   "execution_count": null,
   "id": "3b1e5279",
   "metadata": {},
   "outputs": [],
   "source": [
    "# Create *known* parameters\n",
    "weight = 0.7\n",
    "bias = 0.3\n",
    "\n",
    "# Create\n",
    "start = 0\n",
    "end = 1\n",
    "step = 0.02\n",
    "\n",
    "x = torch.arange(start, end, step).unsqueeze(dim=1)\n",
    "y = weight * x + bias\n",
    "\n",
    "# x[:10], y[:10]"
   ]
  },
  {
   "cell_type": "code",
   "execution_count": null,
   "id": "27bd985a",
   "metadata": {},
   "outputs": [],
   "source": [
    "# len(x), len(y)"
   ]
  },
  {
   "cell_type": "markdown",
   "id": "bb43e029",
   "metadata": {},
   "source": [
    "### Splitting data into training and test sets"
   ]
  },
  {
   "cell_type": "code",
   "execution_count": null,
   "id": "ffeede05",
   "metadata": {},
   "outputs": [],
   "source": [
    "# Create a train/test split\n",
    "train_split = int(0.8 * len(x))\n",
    "x_train, y_train = x[:train_split], y[:train_split]\n",
    "x_test, y_test = x[train_split:], y[train_split:]\n",
    "len(x_train), len(y_train), len(x_test), len(y_test)"
   ]
  },
  {
   "cell_type": "markdown",
   "id": "9df7e014",
   "metadata": {},
   "source": [
    "### Exploring data"
   ]
  },
  {
   "cell_type": "code",
   "execution_count": null,
   "id": "4dde52a6",
   "metadata": {},
   "outputs": [],
   "source": [
    "def plot_predictions(\n",
    "    train_data=x_train,\n",
    "    train_labels=y_train,\n",
    "    test_data=x_test,\n",
    "    test_labels=y_test,\n",
    "    predictions=None,\n",
    "):\n",
    "    \"\"\"\n",
    "    Plots training data, test data and compares predictions.\n",
    "    \"\"\"\n",
    "    plt.figure(figsize=(10, 7))\n",
    "\n",
    "    # Plot training data in blue\n",
    "    plt.scatter(train_data, train_labels, s=4, c=\"b\", label=\"Training data\")\n",
    "\n",
    "    # Plot test data in green\n",
    "    plt.scatter(test_data, test_labels, s=4, c=\"g\", label=\"Testing data\")\n",
    "\n",
    "    # Are there predictions?\n",
    "    if predictions is not None:\n",
    "        # Plot the predictions if they exists\n",
    "        plt.scatter(test_data, predictions, s=4, c=\"r\", label=\"Predictions\")\n",
    "\n",
    "    # Show the legend\n",
    "    plt.legend(prop={\"size\": 14})"
   ]
  },
  {
   "cell_type": "code",
   "execution_count": null,
   "id": "973acfa8",
   "metadata": {},
   "outputs": [],
   "source": [
    "plot_predictions()"
   ]
  },
  {
   "cell_type": "markdown",
   "id": "cb5905ab",
   "metadata": {},
   "source": [
    "### Building first PyTorch model!\n",
    " * start with randon values (weight & bias)\n",
    " * look at the training data and adjust the random values to better represent (or get closer to) the ideal values (the weight and bias values we used to create the data)\n",
    "\n",
    "\n",
    "How does it do so?\n",
    "Through two main algorithms:\n",
    "1. Gradient descent\n",
    "2. Backpropagation"
   ]
  },
  {
   "cell_type": "code",
   "execution_count": null,
   "id": "18420f73",
   "metadata": {},
   "outputs": [],
   "source": [
    "import torch\n",
    "from torch import nn\n",
    "\n",
    "# Create a linerar regression model class\n",
    "class LinearRegressionModel(\n",
    "    nn.Module  # <- nn.Module contains all the building blocks for neural network\n",
    "):  # <- almost everything in PyTorch inherits from nn.Module\n",
    "    def __init__(self):\n",
    "        super().__init__()\n",
    "\n",
    "        # Initalize model parameters\n",
    "        self.weight = nn.Parameter(\n",
    "            torch.randn(\n",
    "                1,  # <- start with a random weight and try to adjust it to the ideal weight\n",
    "                requires_grad=True,  # <- can this parameter be updated via gradient descent?\n",
    "                dtype=torch.float32,  # PyTorch loves the datatype torch.float32\n",
    "            )\n",
    "        )  # <- PyTorch loves the datatype torch.float32\n",
    "\n",
    "        self.bias = nn.Parameter(\n",
    "            torch.randn(\n",
    "                1,  # <- start with a random bias and try to adjust it to the ideal bias\n",
    "                requires_grad=True,  # <- can this parameter be updated via gradient descent?\n",
    "                dtype=torch.float32,  # PyTorch loves the datatype torch.float32\n",
    "            )\n",
    "        )\n",
    "\n",
    "    # Forward method to define the computation in the model, all subclasses of nn.Module need to overwrite forward method.\n",
    "    # This defines the forward computation of the model\n",
    "    def forward(self, x: torch.Tensor) -> torch.Tensor:  # <- \"x\" is the input data\n",
    "        return self.weight * x + self.bias  # this is the linear regression formula"
   ]
  },
  {
   "cell_type": "markdown",
   "id": "25ff5d5d",
   "metadata": {},
   "source": [
    "### PyTorch model building essentials\n",
    "\n",
    "1. **torch.nn** - contains all of the buildings for computational graphs (a neural network can be considered a computational graph)\n",
    "\n",
    "2. **torch.nn.Parameter** - what parameters should our model try and learn, often a PyTorch layer from torch.nn will set these for us.\n",
    "\n",
    "3. **torch.nn.Module** - The base class for all neural network modules, if you subclass it, you should overwrite forward()\n",
    "\n",
    "4. **torch.optim** - this where the optimizers in PyTorch live, they will help with gradient descent\n",
    "\n",
    "5. **def forward()** - All nn.Module subclasses require you to overwrite forward(), this method defines what happens in the forward computation."
   ]
  },
  {
   "cell_type": "code",
   "execution_count": null,
   "id": "e7bc2346",
   "metadata": {},
   "outputs": [],
   "source": [
    "# Create a random seed\n",
    "torch.manual_seed(42)\n",
    "\n",
    "# Create an instance of the model (the model is a subclass of nn.Module)\n",
    "model_0 = LinearRegressionModel()\n",
    "\n",
    "# Checkout out the parameters\n",
    "list(model_0.parameters())"
   ]
  },
  {
   "cell_type": "code",
   "execution_count": null,
   "id": "d05e9460",
   "metadata": {},
   "outputs": [],
   "source": [
    "# List names parameters\n",
    "model_0.state_dict()"
   ]
  },
  {
   "cell_type": "markdown",
   "id": "b991c776",
   "metadata": {},
   "source": [
    "### Making predictions using `torch.inference_mode()`\n",
    "\n",
    "To check our model's predictive power, let's see how well it predicts `y_test` based on `x_test`.\n",
    "\n",
    "When we pass data through our mode, it's going it through the forward() method."
   ]
  },
  {
   "cell_type": "code",
   "execution_count": null,
   "id": "f92447f0",
   "metadata": {},
   "outputs": [],
   "source": [
    "x_test"
   ]
  },
  {
   "cell_type": "code",
   "execution_count": null,
   "id": "2a51e846",
   "metadata": {},
   "outputs": [],
   "source": [
    "# Make predictions with model\n",
    "with torch.inference_mode():\n",
    "    y_preds = model_0(x_test)\n",
    "y_preds"
   ]
  },
  {
   "cell_type": "code",
   "execution_count": null,
   "id": "64655206",
   "metadata": {},
   "outputs": [],
   "source": [
    "plot_predictions(predictions=y_preds)"
   ]
  }
 ],
 "metadata": {
  "kernelspec": {
   "display_name": "venv (3.13.3)",
   "language": "python",
   "name": "python3"
  },
  "language_info": {
   "codemirror_mode": {
    "name": "ipython",
    "version": 3
   },
   "file_extension": ".py",
   "mimetype": "text/x-python",
   "name": "python",
   "nbconvert_exporter": "python",
   "pygments_lexer": "ipython3",
   "version": "3.13.3"
  }
 },
 "nbformat": 4,
 "nbformat_minor": 5
}
