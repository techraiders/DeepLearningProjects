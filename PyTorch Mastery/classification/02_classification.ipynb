{
 "cells": [
  {
   "cell_type": "markdown",
   "id": "b25071d9",
   "metadata": {},
   "source": [
    "### 02. Neural Network classification with PyTorch\n",
    "Classification is a problem of predicting whether something is one thing or another (there can be multiple things as the options)."
   ]
  },
  {
   "cell_type": "markdown",
   "id": "7d27b879",
   "metadata": {},
   "source": [
    "#### 1. Make classification data and get it ready"
   ]
  },
  {
   "cell_type": "code",
   "execution_count": null,
   "id": "cdba7832",
   "metadata": {},
   "outputs": [],
   "source": [
    "import sklearn\n",
    "from sklearn.datasets import make_circles\n",
    "\n",
    "# Make 1000 samples\n",
    "\n",
    "n_samples = 1000\n",
    "\n",
    "# Create circles\n",
    "x,y = make_circles(n_samples, noise=0.03, random_state=42)"
   ]
  },
  {
   "cell_type": "code",
   "execution_count": null,
   "id": "516c0f83",
   "metadata": {},
   "outputs": [],
   "source": [
    "len(x), len(y)"
   ]
  },
  {
   "cell_type": "code",
   "execution_count": null,
   "id": "f1f30813",
   "metadata": {},
   "outputs": [],
   "source": [
    "print(f'First 5 samples of x:\\n {x[:5]}')\n",
    "print(f'First 5 samples of y:\\n {y[:5]}')"
   ]
  },
  {
   "cell_type": "code",
   "execution_count": null,
   "id": "39917c14",
   "metadata": {},
   "outputs": [],
   "source": [
    "# Make DataFrame of circle data\n",
    "import pandas as pd\n",
    "\n",
    "circles = pd.DataFrame({\"X1\": x[:, 0], \"X2\": x[:, 1], \"label\": y})\n",
    "circles.head(10)"
   ]
  },
  {
   "cell_type": "code",
   "execution_count": null,
   "id": "9065a700",
   "metadata": {},
   "outputs": [],
   "source": [
    "# Visualize, # Visualize, # Visualize\n",
    "import matplotlib.pyplot as plt\n",
    "plt.scatter(x=x[:,0],\n",
    "            y=x[:,1],\n",
    "            c=y,\n",
    "            cmap=plt.cm.RdYlBu)"
   ]
  },
  {
   "cell_type": "markdown",
   "id": "caf83460",
   "metadata": {},
   "source": [
    "### 1.1 Check input and output shapes"
   ]
  },
  {
   "cell_type": "code",
   "execution_count": null,
   "id": "9910996f",
   "metadata": {},
   "outputs": [],
   "source": [
    "x.shape, y.shape"
   ]
  },
  {
   "cell_type": "code",
   "execution_count": null,
   "id": "c0f7bc20",
   "metadata": {},
   "outputs": [],
   "source": [
    "x"
   ]
  },
  {
   "cell_type": "code",
   "execution_count": null,
   "id": "e43b2b5d",
   "metadata": {},
   "outputs": [],
   "source": [
    "# View the first example of features and labels\n",
    "x_sample = x[0]\n",
    "y_sample = y[0]\n",
    "\n",
    "print(f\"Values for one sample of x: {x_sample} and the same for y: {y_sample}\")\n",
    "print(f\"Shapes for one sample of x: {x_sample.shape} and the same for y: {y_sample.shape}\")"
   ]
  },
  {
   "cell_type": "code",
   "execution_count": null,
   "id": "1d370a87",
   "metadata": {},
   "outputs": [],
   "source": [
    "type(x)"
   ]
  },
  {
   "cell_type": "code",
   "execution_count": null,
   "id": "c2cf5c8a",
   "metadata": {},
   "outputs": [],
   "source": [
    "# Turn data into tensors\n",
    "import torch\n",
    "x = torch.from_numpy(x).type(torch.float)\n",
    "y = torch.from_numpy(y).type(torch.float)\n",
    "\n",
    "x[:5], y[:5]"
   ]
  },
  {
   "cell_type": "code",
   "execution_count": null,
   "id": "0f28f9e9",
   "metadata": {},
   "outputs": [],
   "source": [
    "type(x), x.dtype, y.dtype"
   ]
  },
  {
   "cell_type": "code",
   "execution_count": null,
   "id": "5023b1d7",
   "metadata": {},
   "outputs": [],
   "source": [
    "# Split data into training and test sets\n",
    "from sklearn.model_selection import train_test_split\n",
    "\n",
    "x_train, x_test, y_train, y_test = train_test_split(x, y, test_size=0.2, random_state=42)"
   ]
  },
  {
   "cell_type": "code",
   "execution_count": null,
   "id": "a9f5de08",
   "metadata": {},
   "outputs": [],
   "source": [
    "len(x_train), len(x_test), len(y_train), len(y_test)"
   ]
  },
  {
   "cell_type": "markdown",
   "id": "b43fa57d",
   "metadata": {},
   "source": [
    "### 2. Building a model\n",
    "\n",
    "Let's build a model to classify our blue and red dots.\n",
    "\n",
    "To do so, we want to:\n",
    "1. Setup device agnostic code so our code will run on an accelerator (GPU) if there is one.\n",
    "2. Construct a model (by subclassing `nn.Module`)\n",
    "3. Define a loss function and optimizer.\n",
    "4. Create a training and test loop."
   ]
  },
  {
   "cell_type": "code",
   "execution_count": null,
   "id": "7f8f8075",
   "metadata": {},
   "outputs": [],
   "source": [
    "# Import PyTorch and nn\n",
    "import torch\n",
    "from torch import nn\n",
    "\n",
    "# Make device agnostic code\n",
    "device = 'cuda' if torch.cuda.is_available() else 'cpu'\n",
    "device"
   ]
  },
  {
   "cell_type": "code",
   "execution_count": null,
   "id": "d03d076f",
   "metadata": {},
   "outputs": [],
   "source": [
    "x_train # check if data is available on target device"
   ]
  },
  {
   "cell_type": "markdown",
   "id": "1fe15008",
   "metadata": {},
   "source": [
    "Now we've setup devide agnostic code, let's create a model that:\n",
    "\n",
    "1. Subclasses `nn.Module` (almost all models in PyTorch subclass `nn.Module`)\n",
    "2. Create 2 `nn.Linear()` layers that are capable of handling the shapes of our data\n",
    "3. Defines a `forward()` method that outlines the forward pass (or forward computation) of the model\n",
    "4. Instantiate an instance of our model class and send it to the target device"
   ]
  },
  {
   "cell_type": "code",
   "execution_count": null,
   "id": "b2860b1f",
   "metadata": {},
   "outputs": [],
   "source": [
    "x_train.shape"
   ]
  },
  {
   "cell_type": "code",
   "execution_count": null,
   "id": "6d81983c",
   "metadata": {},
   "outputs": [],
   "source": [
    "# 1. Construct a model that subclasses nn.Module\n",
    "class CircleModelv0(nn.Module):\n",
    "    def __init__(self):\n",
    "        super().__init__()\n",
    "        # 2. Create 2 nn.Linear layers capable of handling the shapes of our data\n",
    "        self.layer_1 = nn.Linear(\n",
    "            in_features=2, out_features=5\n",
    "        )  # takes in 2 features and upscales to 5 features\n",
    "        self.layer_2 = nn.Linear(\n",
    "            in_features=5, out_features=1\n",
    "        )  # takes in 5 features from previous layer and outputs a single feature (same shape as y)\n",
    "\n",
    "    # 3. Define a forward() method that outlines the forward pass\n",
    "    def forward(self, x):\n",
    "        return self.layer_2(self.layer_1(x))  # x -> layer_1 -> layer_2 -> output\n",
    "\n",
    "\n",
    "# 4. Instantiate an instance of out model class and send it to the target device\n",
    "model_0 = CircleModelv0().to(device)\n",
    "model_0"
   ]
  },
  {
   "cell_type": "code",
   "execution_count": null,
   "id": "46c6bbe4",
   "metadata": {},
   "outputs": [],
   "source": [
    "next(model_0.parameters()).device"
   ]
  },
  {
   "cell_type": "code",
   "execution_count": null,
   "id": "d655d630",
   "metadata": {},
   "outputs": [],
   "source": [
    "# Let's replicate the model above using nn.Sequential()\n",
    "\n",
    "model_0 = nn.Sequential(\n",
    "    nn.Linear(in_features=2, out_features=5),\n",
    "    nn.Linear(in_features=5, out_features=1)\n",
    ").to(device)\n",
    "\n",
    "model_0"
   ]
  },
  {
   "cell_type": "code",
   "execution_count": null,
   "id": "85b1520d",
   "metadata": {},
   "outputs": [],
   "source": [
    "next(model_0.parameters()).device"
   ]
  },
  {
   "cell_type": "code",
   "execution_count": null,
   "id": "9d9eaefc",
   "metadata": {},
   "outputs": [],
   "source": [
    "model_0.state_dict()"
   ]
  },
  {
   "cell_type": "code",
   "execution_count": null,
   "id": "951806f9",
   "metadata": {},
   "outputs": [],
   "source": [
    "# Make predictions\n",
    "with torch.inference_mode():\n",
    "    untrained_preds = model_0(x_test.to(device))\n",
    "print(f\"Length of predictions: {len(untrained_preds)}, Shape: {untrained_preds.shape}\")\n",
    "print(f\"Length of test samples: {len(x_test)}, Shape: {x_test.shape}\")\n",
    "print(f\"\\nFirst 10 predictions:\\n{torch.round(untrained_preds[:10])}\")\n",
    "print(f\"\\nFirst 10 labels:\\n{y_test[:10]}\")"
   ]
  },
  {
   "cell_type": "code",
   "execution_count": null,
   "id": "cf8516e9",
   "metadata": {},
   "outputs": [],
   "source": [
    "x_test[:10], y_test[:10]"
   ]
  }
 ],
 "metadata": {
  "kernelspec": {
   "display_name": "venv (3.13.3)",
   "language": "python",
   "name": "python3"
  },
  "language_info": {
   "codemirror_mode": {
    "name": "ipython",
    "version": 3
   },
   "file_extension": ".py",
   "mimetype": "text/x-python",
   "name": "python",
   "nbconvert_exporter": "python",
   "pygments_lexer": "ipython3",
   "version": "3.13.3"
  }
 },
 "nbformat": 4,
 "nbformat_minor": 5
}
