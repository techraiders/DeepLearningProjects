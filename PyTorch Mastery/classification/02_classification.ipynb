{
 "cells": [
  {
   "cell_type": "markdown",
   "id": "b25071d9",
   "metadata": {},
   "source": [
    "### 02. Neural Network classification with PyTorch\n",
    "Classification is a problem of predicting whether something is one thing or another (there can be multiple things as the options)."
   ]
  },
  {
   "cell_type": "markdown",
   "id": "7d27b879",
   "metadata": {},
   "source": [
    "#### 1. Make classification data and get it ready"
   ]
  },
  {
   "cell_type": "code",
   "execution_count": null,
   "id": "cdba7832",
   "metadata": {},
   "outputs": [],
   "source": [
    "import sklearn\n",
    "from sklearn.datasets import make_circles\n",
    "\n",
    "# Make 1000 samples\n",
    "\n",
    "n_samples = 1000\n",
    "\n",
    "# Create circles\n",
    "x,y = make_circles(n_samples, noise=0.03, random_state=42)"
   ]
  },
  {
   "cell_type": "code",
   "execution_count": null,
   "id": "516c0f83",
   "metadata": {},
   "outputs": [],
   "source": [
    "len(x), len(y)"
   ]
  },
  {
   "cell_type": "code",
   "execution_count": null,
   "id": "f1f30813",
   "metadata": {},
   "outputs": [],
   "source": [
    "print(f'First 5 samples of x:\\n {x[:5]}')\n",
    "print(f'First 5 samples of y:\\n {y[:5]}')"
   ]
  },
  {
   "cell_type": "code",
   "execution_count": null,
   "id": "39917c14",
   "metadata": {},
   "outputs": [],
   "source": [
    "# Make DataFrame of circle data\n",
    "import pandas as pd\n",
    "\n",
    "circles = pd.DataFrame({\"X1\": x[:, 0], \"X2\": x[:, 1], \"label\": y})\n",
    "circles.head(10)"
   ]
  },
  {
   "cell_type": "code",
   "execution_count": null,
   "id": "9065a700",
   "metadata": {},
   "outputs": [],
   "source": [
    "# Visualize, # Visualize, # Visualize\n",
    "import matplotlib.pyplot as plt\n",
    "plt.scatter(x=x[:,0],\n",
    "            y=x[:,1],\n",
    "            c=y,\n",
    "            cmap=plt.cm.RdYlBu)"
   ]
  },
  {
   "cell_type": "markdown",
   "id": "caf83460",
   "metadata": {},
   "source": [
    "### 1.1 Check input and output shapes"
   ]
  },
  {
   "cell_type": "code",
   "execution_count": null,
   "id": "9910996f",
   "metadata": {},
   "outputs": [],
   "source": [
    "x.shape, y.shape"
   ]
  },
  {
   "cell_type": "code",
   "execution_count": null,
   "id": "c0f7bc20",
   "metadata": {},
   "outputs": [],
   "source": [
    "x"
   ]
  },
  {
   "cell_type": "code",
   "execution_count": null,
   "id": "e43b2b5d",
   "metadata": {},
   "outputs": [],
   "source": [
    "# View the first example of features and labels\n",
    "x_sample = x[0]\n",
    "y_sample = y[0]\n",
    "\n",
    "print(f\"Values for one sample of x: {x_sample} and the same for y: {y_sample}\")\n",
    "print(f\"Shapes for one sample of x: {x_sample.shape} and the same for y: {y_sample.shape}\")"
   ]
  },
  {
   "cell_type": "code",
   "execution_count": null,
   "id": "1d370a87",
   "metadata": {},
   "outputs": [],
   "source": [
    "type(x)"
   ]
  },
  {
   "cell_type": "code",
   "execution_count": null,
   "id": "c2cf5c8a",
   "metadata": {},
   "outputs": [],
   "source": [
    "# Turn data into tensors\n",
    "import torch\n",
    "x = torch.from_numpy(x).type(torch.float)\n",
    "y = torch.from_numpy(y).type(torch.float)\n",
    "\n",
    "x[:5], y[:5]"
   ]
  },
  {
   "cell_type": "code",
   "execution_count": null,
   "id": "0f28f9e9",
   "metadata": {},
   "outputs": [],
   "source": [
    "type(x), x.dtype, y.dtype"
   ]
  },
  {
   "cell_type": "code",
   "execution_count": null,
   "id": "5023b1d7",
   "metadata": {},
   "outputs": [],
   "source": [
    "# Split data into training and test sets\n",
    "from sklearn.model_selection import train_test_split\n",
    "\n",
    "x_train, x_test, y_train, y_test = train_test_split(x, y, test_size=0.2, random_state=42)"
   ]
  },
  {
   "cell_type": "code",
   "execution_count": null,
   "id": "a9f5de08",
   "metadata": {},
   "outputs": [],
   "source": [
    "len(x_train), len(x_test), len(y_train), len(y_test)"
   ]
  }
 ],
 "metadata": {
  "kernelspec": {
   "display_name": "venv (3.13.3)",
   "language": "python",
   "name": "python3"
  },
  "language_info": {
   "codemirror_mode": {
    "name": "ipython",
    "version": 3
   },
   "file_extension": ".py",
   "mimetype": "text/x-python",
   "name": "python",
   "nbconvert_exporter": "python",
   "pygments_lexer": "ipython3",
   "version": "3.13.3"
  }
 },
 "nbformat": 4,
 "nbformat_minor": 5
}
