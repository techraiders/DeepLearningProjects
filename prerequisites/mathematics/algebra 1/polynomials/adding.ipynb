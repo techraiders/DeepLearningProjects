{
 "cells": [
  {
   "cell_type": "code",
   "execution_count": 1,
   "id": "58984999",
   "metadata": {},
   "outputs": [
    {
     "data": {
      "text/latex": [
       "$\\displaystyle 2 x^{3} + x^{2} - x$"
      ],
      "text/plain": [
       "2*x**3 + x**2 - x"
      ]
     },
     "metadata": {},
     "output_type": "display_data"
    },
    {
     "data": {
      "text/latex": [
       "$\\displaystyle - x^{4} + x^{3} - 4 x^{2}$"
      ],
      "text/plain": [
       "-x**4 + x**3 - 4*x**2"
      ]
     },
     "metadata": {},
     "output_type": "display_data"
    },
    {
     "data": {
      "text/latex": [
       "$\\displaystyle \\text p1+p2 = (2 x^{3} + x^{2} - x) + (- x^{4} + x^{3} - 4 x^{2}) = - x^{4} + 3 x^{3} - 3 x^{2} - x$"
      ],
      "text/plain": [
       "<IPython.core.display.Math object>"
      ]
     },
     "metadata": {},
     "output_type": "display_data"
    }
   ],
   "source": [
    "import sympy as sym\n",
    "from IPython.display import display, Math\n",
    "\n",
    "from sympy.abc import x\n",
    "\n",
    "p1 = 2 * x**3 + x**2 - x\n",
    "p2 = x**3 - x**4 - 4 * x**2\n",
    "\n",
    "display(p1)\n",
    "display(p2)\n",
    "display(\n",
    "    Math(\n",
    "        \"\\\\text p1+p2 = (%s) + (%s) = %s\"\n",
    "        % (sym.latex(p1), sym.latex(p2), sym.latex(p1 + p2))\n",
    "    )\n",
    ")"
   ]
  },
  {
   "cell_type": "code",
   "execution_count": 2,
   "id": "c18e3a96",
   "metadata": {},
   "outputs": [
    {
     "data": {
      "text/latex": [
       "$\\displaystyle \\operatorname{Poly}{\\left( 2 x^{3} + x^{2} - x, x, domain=\\mathbb{Z} \\right)}$"
      ],
      "text/plain": [
       "Poly(2*x**3 + x**2 - x, x, domain='ZZ')"
      ]
     },
     "metadata": {},
     "output_type": "display_data"
    },
    {
     "data": {
      "text/plain": [
       "[2, 1, -1]"
      ]
     },
     "metadata": {},
     "output_type": "display_data"
    },
    {
     "data": {
      "text/latex": [
       "$\\displaystyle 2$"
      ],
      "text/plain": [
       "2"
      ]
     },
     "execution_count": 2,
     "metadata": {},
     "output_type": "execute_result"
    }
   ],
   "source": [
    "# another way to create polinomials\n",
    "p1 = sym.Poly(x**2 + 2 * x**3 - x)\n",
    "display(p1)\n",
    "type(p1)\n",
    "display(p1.coeffs())\n",
    "p1.eval(1)"
   ]
  },
  {
   "cell_type": "code",
   "execution_count": 3,
   "id": "e86b203b",
   "metadata": {},
   "outputs": [
    {
     "data": {
      "text/plain": [
       "'The degree of x**2 + 2*x is even, and the coefficients sum to 3.'"
      ]
     },
     "metadata": {},
     "output_type": "display_data"
    },
    {
     "name": "stdout",
     "output_type": "stream",
     "text": [
      "The degree of -x**3 + 4*x is odd, and there are 2 coefficients\n",
      "The degree of 1.0*x**5 - 1.0*x**4 + 0.25*x + 4.0 is odd, and there are 4 coefficients\n"
     ]
    }
   ],
   "source": [
    "polys = [\n",
    "    sym.Poly(2 * x + x**2),\n",
    "    sym.Poly(-(x**3) + 4 * x),\n",
    "    sym.Poly(x**5 - x**4 + 1 / 4 * x + 4),\n",
    "]\n",
    "\n",
    "for poli in polys:\n",
    "    if poli.degree() % 2 == 0:\n",
    "        display(\n",
    "            'The degree of %s is even, and the coefficients sum to %g.' % (poli.as_expr(), sum(poli.coeffs()))\n",
    "        )\n",
    "    else:\n",
    "        print('The degree of %s is odd, and there are %g coefficients' %(poli.as_expr(), len(poli.coeffs())))"
   ]
  }
 ],
 "metadata": {
  "kernelspec": {
   "display_name": "venv (3.13.3)",
   "language": "python",
   "name": "python3"
  },
  "language_info": {
   "codemirror_mode": {
    "name": "ipython",
    "version": 3
   },
   "file_extension": ".py",
   "mimetype": "text/x-python",
   "name": "python",
   "nbconvert_exporter": "python",
   "pygments_lexer": "ipython3",
   "version": "3.13.3"
  }
 },
 "nbformat": 4,
 "nbformat_minor": 5
}
