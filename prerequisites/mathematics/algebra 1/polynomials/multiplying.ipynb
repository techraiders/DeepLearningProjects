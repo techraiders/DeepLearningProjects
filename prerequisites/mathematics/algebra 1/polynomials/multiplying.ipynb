{
 "cells": [
  {
   "cell_type": "code",
   "execution_count": 1,
   "id": "d8e378ed",
   "metadata": {},
   "outputs": [
    {
     "data": {
      "text/latex": [
       "$\\displaystyle x^{8}$"
      ],
      "text/plain": [
       "x**8"
      ]
     },
     "execution_count": 1,
     "metadata": {},
     "output_type": "execute_result"
    }
   ],
   "source": [
    "import sympy as sym\n",
    "from IPython.display import display, Math\n",
    "\n",
    "x = sym.symbols(\"x\")\n",
    "x**5 * x**3"
   ]
  },
  {
   "cell_type": "code",
   "execution_count": 2,
   "id": "91671f0f",
   "metadata": {},
   "outputs": [
    {
     "data": {
      "text/latex": [
       "$\\displaystyle \\left(4 x^{2} - 2 x\\right) \\left(x^{3} - 1\\right)$"
      ],
      "text/plain": [
       "(4*x**2 - 2*x)*(x**3 - 1)"
      ]
     },
     "metadata": {},
     "output_type": "display_data"
    },
    {
     "data": {
      "text/latex": [
       "$\\displaystyle 4 x^{5} - 2 x^{4} - 4 x^{2} + 2 x$"
      ],
      "text/plain": [
       "4*x**5 - 2*x**4 - 4*x**2 + 2*x"
      ]
     },
     "execution_count": 2,
     "metadata": {},
     "output_type": "execute_result"
    }
   ],
   "source": [
    "p1 = 4 * x**2 - 2 * x\n",
    "p2 = x**3 - 1\n",
    "\n",
    "display(p1 * p2)\n",
    "sym.expand(p1 * p2)"
   ]
  },
  {
   "cell_type": "code",
   "execution_count": 3,
   "id": "e94aa454",
   "metadata": {},
   "outputs": [
    {
     "data": {
      "text/latex": [
       "$\\displaystyle (4 x^{4} - 3 x^{2} + x y - 9 y^{3}) \\times (- x^{3} + 6 x^{2} y + 0.8 y^{3}) = - 4 x^{7} + 24 x^{6} y + 3 x^{5} + 3.2 x^{4} y^{3} - 19 x^{4} y + 9 x^{3} y^{3} + 6 x^{3} y^{2} - 54 x^{2} y^{4} - 2.4 x^{2} y^{3} + 0.8 x y^{4} - 7.2 y^{6}$"
      ],
      "text/plain": [
       "<IPython.core.display.Math object>"
      ]
     },
     "metadata": {},
     "output_type": "display_data"
    }
   ],
   "source": [
    "x, y = sym.symbols(\"x,y\")\n",
    "fxy = 4 * x**4 - 9 * y**3 - 3 * x**2 + x * y\n",
    "gxy = 0.8 * y**3 - x**3 + 6 * x**2 * y\n",
    "\n",
    "display(\n",
    "    Math(\n",
    "        \"(%s) \\\\times (%s) = %s\"\n",
    "        % (sym.latex(fxy), sym.latex(gxy), sym.latex(sym.expand(fxy * gxy)))\n",
    "    )\n",
    ")"
   ]
  },
  {
   "cell_type": "code",
   "execution_count": 4,
   "id": "a27927ba",
   "metadata": {},
   "outputs": [
    {
     "name": "stdout",
     "output_type": "stream",
     "text": [
      "Multiplied solution is -1.07289e+06\n",
      "Separate solutions comes to -1072891.80000000\n"
     ]
    }
   ],
   "source": [
    "xval = 5\n",
    "yval = -2\n",
    "\n",
    "fg = (fxy*gxy).subs({x: xval, y: yval})\n",
    "print('Multiplied solution is %g' %fg)\n",
    "\n",
    "fxy_ans = fxy.subs({x: xval, y: yval})\n",
    "gxy_ans = gxy.subs({x: xval, y: yval})\n",
    "\n",
    "print('Separate solutions comes to %s' %(fxy_ans * gxy_ans))"
   ]
  }
 ],
 "metadata": {
  "kernelspec": {
   "display_name": "venv (3.13.3)",
   "language": "python",
   "name": "python3"
  },
  "language_info": {
   "codemirror_mode": {
    "name": "ipython",
    "version": 3
   },
   "file_extension": ".py",
   "mimetype": "text/x-python",
   "name": "python",
   "nbconvert_exporter": "python",
   "pygments_lexer": "ipython3",
   "version": "3.13.3"
  }
 },
 "nbformat": 4,
 "nbformat_minor": 5
}
