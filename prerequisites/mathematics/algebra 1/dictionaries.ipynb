{
 "cells": [
  {
   "cell_type": "code",
   "execution_count": 1,
   "id": "016f2692",
   "metadata": {},
   "outputs": [
    {
     "name": "stdout",
     "output_type": "stream",
     "text": [
      "Solutions for equations involving X:\n"
     ]
    },
    {
     "data": {
      "text/latex": [
       "$\\displaystyle \\quad\\quad 4 x - 6= 0\\quad \\Rightarrow \\quad X =\\left[ \\frac{3}{2}\\right]$"
      ],
      "text/plain": [
       "<IPython.core.display.Math object>"
      ]
     },
     "metadata": {},
     "output_type": "display_data"
    },
    {
     "data": {
      "text/latex": [
       "$\\displaystyle \\quad\\quad x^{2} - 9= 0\\quad \\Rightarrow \\quad X =\\left[ -3, \\  3\\right]$"
      ],
      "text/plain": [
       "<IPython.core.display.Math object>"
      ]
     },
     "metadata": {},
     "output_type": "display_data"
    },
    {
     "name": "stdout",
     "output_type": "stream",
     "text": [
      "Solutions for equations involving Y:\n"
     ]
    },
    {
     "data": {
      "text/latex": [
       "$\\displaystyle \\quad\\quad \\sin{\\left(y \\right)}= 0\\quad \\Rightarrow \\quad Y =\\left[ 0, \\  \\pi\\right]$"
      ],
      "text/plain": [
       "<IPython.core.display.Math object>"
      ]
     },
     "metadata": {},
     "output_type": "display_data"
    }
   ],
   "source": [
    "import sympy as sym\n",
    "from IPython.display import display, Math\n",
    "x,y = sym.symbols('x y')\n",
    "\n",
    "D = dict(eqsWithX = [4*x-6, x**2-9], eqsWithY = [sym.sin(y)])\n",
    "\n",
    "for keyi in D:\n",
    "    print('Solutions for equations involving ' + keyi[-1] + ':')\n",
    "\n",
    "    for eqi in D[keyi]:\n",
    "        leftpart = sym.latex(eqi) + '= 0'\n",
    "        midpart = '\\\\quad \\\\Rightarrow \\\\quad ' + keyi[-1] + ' ='\n",
    "        rightpart = sym.latex(sym.solve(eqi))\n",
    "        display(Math('\\\\quad\\\\quad ' + leftpart + midpart + rightpart))"
   ]
  }
 ],
 "metadata": {
  "kernelspec": {
   "display_name": "venv (3.13.3)",
   "language": "python",
   "name": "python3"
  },
  "language_info": {
   "codemirror_mode": {
    "name": "ipython",
    "version": 3
   },
   "file_extension": ".py",
   "mimetype": "text/x-python",
   "name": "python",
   "nbconvert_exporter": "python",
   "pygments_lexer": "ipython3",
   "version": "3.13.3"
  }
 },
 "nbformat": 4,
 "nbformat_minor": 5
}
