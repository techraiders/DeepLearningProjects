{
 "cells": [
  {
   "cell_type": "markdown",
   "id": "551869e6",
   "metadata": {},
   "source": [
    "#### ROOTS OF POLYNOMIALS"
   ]
  },
  {
   "cell_type": "code",
   "execution_count": 1,
   "id": "3a34a07f",
   "metadata": {},
   "outputs": [],
   "source": [
    "import sympy as sym\n",
    "import numpy as np\n",
    "from IPython.display import display, Math"
   ]
  },
  {
   "cell_type": "code",
   "execution_count": 2,
   "id": "cb90ba85",
   "metadata": {},
   "outputs": [
    {
     "name": "stdout",
     "output_type": "stream",
     "text": [
      "[-1.          0.33333333]\n"
     ]
    }
   ],
   "source": [
    "# the polynomial:\n",
    "# 3x^2 + 2x -1\n",
    "\n",
    "# define the coefficients\n",
    "coefs = [3, 2, -1]\n",
    "\n",
    "roots = np.roots(coefs)\n",
    "print(roots)"
   ]
  },
  {
   "cell_type": "code",
   "execution_count": 3,
   "id": "943550bc",
   "metadata": {},
   "outputs": [
    {
     "data": {
      "text/latex": [
       "$\\displaystyle \\text{At }  x=-1, \\quad 3 x^{2} + 2 x - 1 = 0$"
      ],
      "text/plain": [
       "<IPython.core.display.Math object>"
      ]
     },
     "metadata": {},
     "output_type": "display_data"
    },
    {
     "data": {
      "text/latex": [
       "$\\displaystyle \\text{At }  x=0.333333, \\quad 3 x^{2} + 2 x - 1 = -5.55112e-17$"
      ],
      "text/plain": [
       "<IPython.core.display.Math object>"
      ]
     },
     "metadata": {},
     "output_type": "display_data"
    }
   ],
   "source": [
    "x = sym.symbols(\"x\")\n",
    "pn = 3 * x**2 + 2 * x - 1\n",
    "\n",
    "for i in roots:\n",
    "    display(\n",
    "        Math(\"\\\\text{At }  x=%g, \\\\quad %s = %g\" % (i, sym.latex(pn), pn.subs(x, i)))\n",
    "    )"
   ]
  }
 ],
 "metadata": {
  "kernelspec": {
   "display_name": "venv (3.13.3)",
   "language": "python",
   "name": "python3"
  },
  "language_info": {
   "codemirror_mode": {
    "name": "ipython",
    "version": 3
   },
   "file_extension": ".py",
   "mimetype": "text/x-python",
   "name": "python",
   "nbconvert_exporter": "python",
   "pygments_lexer": "ipython3",
   "version": "3.13.3"
  }
 },
 "nbformat": 4,
 "nbformat_minor": 5
}
