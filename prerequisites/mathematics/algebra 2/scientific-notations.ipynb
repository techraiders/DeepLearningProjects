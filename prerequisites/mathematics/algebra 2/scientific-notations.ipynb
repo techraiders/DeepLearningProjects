{
 "cells": [
  {
   "cell_type": "markdown",
   "id": "0f26c77d",
   "metadata": {},
   "source": [
    "### ORDERS OF MAGNITUDE AND SCIENTIFIC NOTATIONS"
   ]
  },
  {
   "cell_type": "code",
   "execution_count": 1,
   "id": "6d7d5b4f",
   "metadata": {},
   "outputs": [],
   "source": [
    "import numpy as np\n",
    "from IPython.display import display, Math"
   ]
  },
  {
   "cell_type": "code",
   "execution_count": 2,
   "id": "b5aaea03",
   "metadata": {},
   "outputs": [
    {
     "data": {
      "text/plain": [
       "'3.984574e+09'"
      ]
     },
     "execution_count": 2,
     "metadata": {},
     "output_type": "execute_result"
    }
   ],
   "source": [
    "x = 3984573945\n",
    "\"{:,e}\".format(x)"
   ]
  },
  {
   "cell_type": "code",
   "execution_count": 3,
   "id": "4eb01e5b",
   "metadata": {},
   "outputs": [
    {
     "data": {
      "text/plain": [
       "'3,984,573,945'"
      ]
     },
     "execution_count": 3,
     "metadata": {},
     "output_type": "execute_result"
    }
   ],
   "source": [
    "\"{:,d}\".format(x)"
   ]
  },
  {
   "cell_type": "code",
   "execution_count": 4,
   "id": "46395782",
   "metadata": {},
   "outputs": [
    {
     "data": {
      "text/plain": [
       "'3984573945'"
      ]
     },
     "execution_count": 4,
     "metadata": {},
     "output_type": "execute_result"
    }
   ],
   "source": [
    "\"%s\" % x"
   ]
  },
  {
   "cell_type": "code",
   "execution_count": 5,
   "id": "57392bd5",
   "metadata": {},
   "outputs": [
    {
     "data": {
      "text/plain": [
       "'3.984574e+09'"
      ]
     },
     "execution_count": 5,
     "metadata": {},
     "output_type": "execute_result"
    }
   ],
   "source": [
    "\"%e\" % x"
   ]
  },
  {
   "cell_type": "code",
   "execution_count": 6,
   "id": "5a8f27ba",
   "metadata": {},
   "outputs": [
    {
     "data": {
      "text/plain": [
       "'3.98e+09'"
      ]
     },
     "execution_count": 6,
     "metadata": {},
     "output_type": "execute_result"
    }
   ],
   "source": [
    "\"%.2e\" % x"
   ]
  },
  {
   "cell_type": "code",
   "execution_count": 7,
   "id": "4c082dbf",
   "metadata": {},
   "outputs": [
    {
     "name": "stdout",
     "output_type": "stream",
     "text": [
      "3.9846e+09\n",
      "<class 'str'>\n",
      "09\n"
     ]
    }
   ],
   "source": [
    "s = \"%.4e\" % x\n",
    "print(s)\n",
    "print(type(s))\n",
    "print(s[-2:])"
   ]
  },
  {
   "cell_type": "markdown",
   "id": "ef982e35",
   "metadata": {},
   "source": [
    "#### EXERCISE"
   ]
  },
  {
   "cell_type": "code",
   "execution_count": 8,
   "id": "24a1075d",
   "metadata": {},
   "outputs": [
    {
     "name": "stdout",
     "output_type": "stream",
     "text": [
      "log10: -1.3767507096020994\n",
      "order_of_mag: -2\n",
      "numstr: 4.200000e-02\n",
      "wheredot: 1\n",
      "scinot: 4\n"
     ]
    },
    {
     "data": {
      "text/latex": [
       "$\\displaystyle 0.042 \\text{ is } -2 \\text{ orders of magnitude } \\approx 4 \\times 10^{-2}$"
      ],
      "text/plain": [
       "<IPython.core.display.Math object>"
      ]
     },
     "metadata": {},
     "output_type": "display_data"
    }
   ],
   "source": [
    "num = 0.042\n",
    "\n",
    "# get the order of magnitude\n",
    "print(\"log10:\", np.log10(abs(num)))\n",
    "order_of_mag = int(np.floor(np.log10(abs(num))))\n",
    "print(\"order_of_mag:\", order_of_mag)\n",
    "\n",
    "# scientific notation\n",
    "numstr = \"{:,e}\".format(num)\n",
    "wheredot = numstr.find(\".\")\n",
    "scinot = numstr[:wheredot]\n",
    "\n",
    "print(\"numstr:\", numstr)\n",
    "print(\"wheredot:\", wheredot)\n",
    "print(\"scinot:\", scinot)\n",
    "\n",
    "display(\n",
    "    Math(\n",
    "        \"%s \\\\text{ is } %s \\\\text{ orders of magnitude } \\\\approx %s \\\\times 10^{%g}\"\n",
    "        % (num, order_of_mag, scinot, order_of_mag)\n",
    "    )\n",
    ")"
   ]
  }
 ],
 "metadata": {
  "kernelspec": {
   "display_name": "venv (3.13.3)",
   "language": "python",
   "name": "python3"
  },
  "language_info": {
   "codemirror_mode": {
    "name": "ipython",
    "version": 3
   },
   "file_extension": ".py",
   "mimetype": "text/x-python",
   "name": "python",
   "nbconvert_exporter": "python",
   "pygments_lexer": "ipython3",
   "version": "3.13.3"
  }
 },
 "nbformat": 4,
 "nbformat_minor": 5
}
