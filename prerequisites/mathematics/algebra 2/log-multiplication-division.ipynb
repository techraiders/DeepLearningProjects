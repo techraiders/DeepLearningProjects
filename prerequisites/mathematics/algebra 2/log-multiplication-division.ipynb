{
 "cells": [
  {
   "cell_type": "markdown",
   "id": "85ca3bd6",
   "metadata": {},
   "source": [
    "### LOGARITHM MULTIPLICATION AND DIVISION"
   ]
  },
  {
   "cell_type": "code",
   "execution_count": 1,
   "id": "f0d4ea25",
   "metadata": {},
   "outputs": [
    {
     "data": {
      "text/latex": [
       "$\\displaystyle log(3\\times4) = 2.48491$"
      ],
      "text/plain": [
       "<IPython.core.display.Math object>"
      ]
     },
     "metadata": {},
     "output_type": "display_data"
    },
    {
     "data": {
      "text/latex": [
       "$\\displaystyle log(3)\\times log(4) = 1.523$"
      ],
      "text/plain": [
       "<IPython.core.display.Math object>"
      ]
     },
     "metadata": {},
     "output_type": "display_data"
    },
    {
     "data": {
      "text/latex": [
       "$\\displaystyle log(3)+log(4) = 2.48491$"
      ],
      "text/plain": [
       "<IPython.core.display.Math object>"
      ]
     },
     "metadata": {},
     "output_type": "display_data"
    },
    {
     "data": {
      "text/latex": [
       "$\\displaystyle \\text{Hence,} \\quad log(3\\times4) = \\ log(3)+log(4)$"
      ],
      "text/plain": [
       "<IPython.core.display.Math object>"
      ]
     },
     "metadata": {},
     "output_type": "display_data"
    },
    {
     "data": {
      "text/latex": [
       "$\\displaystyle \\text{Hence,} \\quad log(3\\times4) \\neq \\ log(3) \\times log(4)$"
      ],
      "text/plain": [
       "<IPython.core.display.Math object>"
      ]
     },
     "metadata": {},
     "output_type": "display_data"
    }
   ],
   "source": [
    "import numpy as np\n",
    "from IPython.display import display, Math\n",
    "\n",
    "a = 3\n",
    "b = 4\n",
    "res1 = np.log(a * b)\n",
    "res2 = np.log(a) * np.log(b)\n",
    "res3 = np.log(a) + np.log(b)\n",
    "\n",
    "display(Math(\"log(%g\\\\times%g) = %g\" % (a, b, res1)))\n",
    "display(Math(\"log(%g)\\\\times log(%g) = %g\" % (a, b, res2)))\n",
    "display(Math(\"log(%g)+log(%g) = %g\" % (a, b, res3)))\n",
    "\n",
    "display(\n",
    "    Math(\"\\\\text{Hence,} \\\\quad log(%g\\\\times%g) = \\\\ log(%g)+log(%g)\" % (a, b, a, b))\n",
    ")\n",
    "\n",
    "display(\n",
    "    Math(\n",
    "        \"\\\\text{Hence,} \\\\quad log(%g\\\\times%g) \\\\neq \\\\ log(%g) \\\\times log(%g)\"\n",
    "        % (a, b, a, b)\n",
    "    )\n",
    ")"
   ]
  },
  {
   "cell_type": "code",
   "execution_count": 2,
   "id": "8b1c602a",
   "metadata": {},
   "outputs": [
    {
     "data": {
      "text/latex": [
       "$\\displaystyle log\\left(\\frac{3}{4}\\right) = -0.287682$"
      ],
      "text/plain": [
       "<IPython.core.display.Math object>"
      ]
     },
     "metadata": {},
     "output_type": "display_data"
    },
    {
     "data": {
      "text/latex": [
       "$\\displaystyle \\frac{log(3)}{log(4)} = 0.792481$"
      ],
      "text/plain": [
       "<IPython.core.display.Math object>"
      ]
     },
     "metadata": {},
     "output_type": "display_data"
    },
    {
     "data": {
      "text/latex": [
       "$\\displaystyle log(3)-log(4) = -0.287682$"
      ],
      "text/plain": [
       "<IPython.core.display.Math object>"
      ]
     },
     "metadata": {},
     "output_type": "display_data"
    },
    {
     "data": {
      "text/latex": [
       "$\\displaystyle \\text{Hence,} \\quad log\\left(\\frac{3}{4}\\right) = \\ log(3)-log(4)$"
      ],
      "text/plain": [
       "<IPython.core.display.Math object>"
      ]
     },
     "metadata": {},
     "output_type": "display_data"
    },
    {
     "data": {
      "text/latex": [
       "$\\displaystyle \\text{Hence,} \\quad log\\left(\\frac{3}{4}\\right) \\neq \\frac{log(3)}{log(4)}$"
      ],
      "text/plain": [
       "<IPython.core.display.Math object>"
      ]
     },
     "metadata": {},
     "output_type": "display_data"
    }
   ],
   "source": [
    "a = 3\n",
    "b = 4\n",
    "res1 = np.log(a / b)\n",
    "res2 = np.log(a) / np.log(b)\n",
    "res3 = np.log(a) - np.log(b)\n",
    "\n",
    "display(Math(\"log\\\\left(\\\\frac{%g}{%g}\\\\right) = %g\" % (a, b, res1)))\n",
    "display(Math(\"\\\\frac{log(%g)}{log(%g)} = %g\" % (a, b, res2)))\n",
    "display(Math(\"log(%g)-log(%g) = %g\" % (a, b, res3)))\n",
    "\n",
    "display(\n",
    "    Math(\n",
    "        \"\\\\text{Hence,} \\\\quad log\\\\left(\\\\frac{%g}{%g}\\\\right) = \\\\ log(%g)-log(%g)\"\n",
    "        % (a, b, a, b)\n",
    "    )\n",
    ")\n",
    "\n",
    "display(\n",
    "    Math(\n",
    "        \"\\\\text{Hence,} \\\\quad log\\\\left(\\\\frac{%g}{%g}\\\\right) \\\\neq \\\\frac{log(%g)}{log(%g)}\"\n",
    "        % (a, b, a, b)\n",
    "    )\n",
    ")"
   ]
  },
  {
   "cell_type": "code",
   "execution_count": 3,
   "id": "7d124eda",
   "metadata": {},
   "outputs": [
    {
     "name": "stdout",
     "output_type": "stream",
     "text": [
      "0.0\n"
     ]
    }
   ],
   "source": [
    "expr1 = np.log(a**b)\n",
    "expr2 = b * np.log(a)\n",
    "print(expr1 - expr2)"
   ]
  }
 ],
 "metadata": {
  "kernelspec": {
   "display_name": "venv (3.13.3)",
   "language": "python",
   "name": "python3"
  },
  "language_info": {
   "codemirror_mode": {
    "name": "ipython",
    "version": 3
   },
   "file_extension": ".py",
   "mimetype": "text/x-python",
   "name": "python",
   "nbconvert_exporter": "python",
   "pygments_lexer": "ipython3",
   "version": "3.13.3"
  }
 },
 "nbformat": 4,
 "nbformat_minor": 5
}
