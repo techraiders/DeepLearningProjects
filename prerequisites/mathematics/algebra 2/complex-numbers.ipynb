{
 "cells": [
  {
   "cell_type": "markdown",
   "id": "adc40588",
   "metadata": {},
   "source": [
    "### COMPLEX NUMBERS"
   ]
  },
  {
   "cell_type": "code",
   "execution_count": 1,
   "id": "ec509b09",
   "metadata": {},
   "outputs": [],
   "source": [
    "import numpy as np\n",
    "import sympy as sym"
   ]
  },
  {
   "cell_type": "code",
   "execution_count": 2,
   "id": "1113964c",
   "metadata": {},
   "outputs": [
    {
     "name": "stdout",
     "output_type": "stream",
     "text": [
      "1j\n",
      "1j\n",
      "1j\n",
      "(6.123233995736766e-17+1j)\n",
      "I\n"
     ]
    }
   ],
   "source": [
    "print(1j)\n",
    "print(np.sqrt(-1, dtype=complex))\n",
    "print(np.lib.scimath.sqrt(-1))\n",
    "print((-1) ** (1 / 2))  # wrong output\n",
    "print(sym.I)"
   ]
  },
  {
   "cell_type": "markdown",
   "id": "16eaf605",
   "metadata": {},
   "source": [
    "### DEFINING COMPLEX NUMBERS"
   ]
  },
  {
   "cell_type": "code",
   "execution_count": 3,
   "id": "d646b1e5",
   "metadata": {},
   "outputs": [
    {
     "name": "stdout",
     "output_type": "stream",
     "text": [
      "(4-5j) <class 'complex'>\n",
      "(4-5j) <class 'numpy.complex128'>\n",
      "(4-5j) <class 'complex'>\n"
     ]
    }
   ],
   "source": [
    "real_part = 4\n",
    "img_part = -5\n",
    "\n",
    "cn1 = complex(real_part, img_part)\n",
    "print(cn1, type(cn1))\n",
    "\n",
    "cn2 = np.complex128(real_part, img_part)\n",
    "print(cn2, type(cn2))\n",
    "\n",
    "cn3 = real_part + 1j * img_part\n",
    "print(cn3, type(cn3))"
   ]
  },
  {
   "cell_type": "markdown",
   "id": "8905f4fe",
   "metadata": {},
   "source": [
    "### CALCULATIONS ON COMPLEX NUMBERS"
   ]
  },
  {
   "cell_type": "code",
   "execution_count": 4,
   "id": "f0d63cfd",
   "metadata": {},
   "outputs": [
    {
     "name": "stdout",
     "output_type": "stream",
     "text": [
      "(7+12j)\n",
      "(-1-2j)\n",
      "3.0\n"
     ]
    },
    {
     "data": {
      "text/plain": [
       "5.0"
      ]
     },
     "execution_count": 4,
     "metadata": {},
     "output_type": "execute_result"
    }
   ],
   "source": [
    "# Adding complex numbers\n",
    "z1 = complex(4, 5)\n",
    "z2 = complex(3, 7)\n",
    "print(z1 + z2)\n",
    "\n",
    "# Substracting complex numbers\n",
    "z1 = complex(3, 5)\n",
    "z2 = complex(4, 7)\n",
    "print(z1 - z2)\n",
    "\n",
    "# Extracting real part and imaginary part of a complex number\n",
    "print(np.real(z1))\n",
    "np.imag(z1)"
   ]
  },
  {
   "cell_type": "markdown",
   "id": "3d216a7b",
   "metadata": {},
   "source": [
    "### EXERCISE"
   ]
  },
  {
   "cell_type": "code",
   "execution_count": 5,
   "id": "9d9439f4",
   "metadata": {},
   "outputs": [
    {
     "name": "stdout",
     "output_type": "stream",
     "text": [
      "(7+10j)\n",
      "7.0 10.0\n"
     ]
    },
    {
     "data": {
      "text/plain": [
       "True"
      ]
     },
     "execution_count": 5,
     "metadata": {},
     "output_type": "execute_result"
    }
   ],
   "source": [
    "# For w = 2 4i and z = 5 6i\n",
    "# Show that w + z = complex(re(w) + re(z), im(w) + im(z))\n",
    "\n",
    "w = complex(2, 4)\n",
    "z = 5 + 1j * 6  # another way to create complex number\n",
    "\n",
    "print(w + z)\n",
    "\n",
    "realsum = np.real(w) + np.real(z)\n",
    "imagsum = np.imag(w) + np.imag(z)\n",
    "\n",
    "print(realsum, imagsum)\n",
    "w + z == complex(realsum, imagsum)"
   ]
  }
 ],
 "metadata": {
  "kernelspec": {
   "display_name": "venv (3.13.3)",
   "language": "python",
   "name": "python3"
  },
  "language_info": {
   "codemirror_mode": {
    "name": "ipython",
    "version": 3
   },
   "file_extension": ".py",
   "mimetype": "text/x-python",
   "name": "python",
   "nbconvert_exporter": "python",
   "pygments_lexer": "ipython3",
   "version": "3.13.3"
  }
 },
 "nbformat": 4,
 "nbformat_minor": 5
}
