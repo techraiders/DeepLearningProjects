{
 "cells": [
  {
   "cell_type": "markdown",
   "id": "adc40588",
   "metadata": {},
   "source": [
    "## COMPLEX NUMBERS"
   ]
  },
  {
   "cell_type": "code",
   "execution_count": 1,
   "id": "ec509b09",
   "metadata": {},
   "outputs": [],
   "source": [
    "import numpy as np\n",
    "import sympy as sym\n",
    "from IPython.display import display, Math"
   ]
  },
  {
   "cell_type": "code",
   "execution_count": 2,
   "id": "1113964c",
   "metadata": {},
   "outputs": [
    {
     "name": "stdout",
     "output_type": "stream",
     "text": [
      "1j\n",
      "1j\n",
      "1j\n",
      "(6.123233995736766e-17+1j)\n",
      "I\n"
     ]
    }
   ],
   "source": [
    "print(1j)\n",
    "print(np.sqrt(-1, dtype=complex))\n",
    "print(np.lib.scimath.sqrt(-1))\n",
    "print((-1) ** (1 / 2))  # wrong output\n",
    "print(sym.I)"
   ]
  },
  {
   "cell_type": "markdown",
   "id": "16eaf605",
   "metadata": {},
   "source": [
    "### DEFINING COMPLEX NUMBERS:"
   ]
  },
  {
   "cell_type": "code",
   "execution_count": 3,
   "id": "d646b1e5",
   "metadata": {},
   "outputs": [
    {
     "name": "stdout",
     "output_type": "stream",
     "text": [
      "(4-5j) <class 'complex'>\n",
      "(4-5j) <class 'numpy.complex128'>\n",
      "(4-5j) <class 'complex'>\n"
     ]
    }
   ],
   "source": [
    "real_part = 4\n",
    "img_part = -5\n",
    "\n",
    "cn1 = complex(real_part, img_part)\n",
    "print(cn1, type(cn1))\n",
    "\n",
    "cn2 = np.complex128(real_part, img_part)\n",
    "print(cn2, type(cn2))\n",
    "\n",
    "cn3 = real_part + 1j * img_part\n",
    "print(cn3, type(cn3))"
   ]
  },
  {
   "cell_type": "markdown",
   "id": "8905f4fe",
   "metadata": {},
   "source": [
    "### ADDITION OF COMPLEX NUMBERS:"
   ]
  },
  {
   "cell_type": "code",
   "execution_count": 4,
   "id": "f0d63cfd",
   "metadata": {},
   "outputs": [
    {
     "name": "stdout",
     "output_type": "stream",
     "text": [
      "(7+12j)\n",
      "(-1-2j)\n",
      "3.0\n"
     ]
    },
    {
     "data": {
      "text/plain": [
       "5.0"
      ]
     },
     "execution_count": 4,
     "metadata": {},
     "output_type": "execute_result"
    }
   ],
   "source": [
    "# Adding complex numbers\n",
    "z1 = complex(4, 5)\n",
    "z2 = complex(3, 7)\n",
    "print(z1 + z2)\n",
    "\n",
    "# Substracting complex numbers\n",
    "z1 = complex(3, 5)\n",
    "z2 = complex(4, 7)\n",
    "print(z1 - z2)\n",
    "\n",
    "# Extracting real part and imaginary part of a complex number\n",
    "print(np.real(z1))\n",
    "np.imag(z1)"
   ]
  },
  {
   "cell_type": "markdown",
   "id": "3d216a7b",
   "metadata": {},
   "source": [
    "#### EXERCISE:"
   ]
  },
  {
   "cell_type": "code",
   "execution_count": 5,
   "id": "9d9439f4",
   "metadata": {},
   "outputs": [
    {
     "name": "stdout",
     "output_type": "stream",
     "text": [
      "(7+10j)\n",
      "7.0 10.0\n"
     ]
    },
    {
     "data": {
      "text/plain": [
       "(7+10j)"
      ]
     },
     "execution_count": 5,
     "metadata": {},
     "output_type": "execute_result"
    }
   ],
   "source": [
    "# For w = 2 4i and z = 5 6i\n",
    "# Show that w + z = complex(re(w) + re(z), im(w) + im(z))\n",
    "\n",
    "w = complex(2, 4)\n",
    "z = 5 + 1j * 6  # another way to create complex number\n",
    "\n",
    "print(w + z)\n",
    "\n",
    "realsum = np.real(w) + np.real(z)\n",
    "imagsum = np.imag(w) + np.imag(z)\n",
    "print(realsum, imagsum)\n",
    "complex(realsum, imagsum)"
   ]
  },
  {
   "cell_type": "markdown",
   "id": "a823920f",
   "metadata": {},
   "source": [
    "### MULTIPLICATIONS OF COMPLEX NUMBERS:"
   ]
  },
  {
   "cell_type": "code",
   "execution_count": 6,
   "id": "8f35501d",
   "metadata": {},
   "outputs": [
    {
     "name": "stdout",
     "output_type": "stream",
     "text": [
      "(34+22j)\n",
      "(34+22j)\n"
     ]
    },
    {
     "data": {
      "text/latex": [
       "$\\displaystyle 34.0 + 22.0 i$"
      ],
      "text/plain": [
       "34.0 + 22.0*I"
      ]
     },
     "execution_count": 6,
     "metadata": {},
     "output_type": "execute_result"
    }
   ],
   "source": [
    "z1 = complex(4, 5)\n",
    "z2 = complex(6, -2)\n",
    "\n",
    "# multiplication the \"manual\" way\n",
    "w = (\n",
    "    np.real(z1) * np.real(z2)\n",
    "    + np.real(z1) * np.imag(z2) * 1j\n",
    "    + np.imag(z1) * np.real(z2) * 1j\n",
    "    + np.imag(z1) * np.imag(z2) * 1j * 1j\n",
    ")\n",
    "\n",
    "print(w)\n",
    "print(z1 * z2)\n",
    "sym.sympify(w)"
   ]
  },
  {
   "cell_type": "code",
   "execution_count": 7,
   "id": "054140e9",
   "metadata": {},
   "outputs": [
    {
     "data": {
      "text/plain": [
       "np.complex128(6+2j)"
      ]
     },
     "execution_count": 7,
     "metadata": {},
     "output_type": "execute_result"
    }
   ],
   "source": [
    "np.conjugate(z2)  # reverses the sign of imaginary part"
   ]
  },
  {
   "cell_type": "code",
   "execution_count": 8,
   "id": "5d5947ba",
   "metadata": {},
   "outputs": [
    {
     "data": {
      "text/latex": [
       "$\\displaystyle z\\times z^* = a^{2} + b^{2}$"
      ],
      "text/plain": [
       "<IPython.core.display.Math object>"
      ]
     },
     "metadata": {},
     "output_type": "display_data"
    }
   ],
   "source": [
    "a, b = sym.symbols(\"a,b\", real=True)\n",
    "z = a + b * sym.I\n",
    "display(Math(\"z\\\\times z^* = %s\" % sym.latex(sym.expand(z * sym.conjugate(z)))))"
   ]
  },
  {
   "cell_type": "markdown",
   "id": "c3c7995b",
   "metadata": {},
   "source": [
    "### DIVISION OF COMPLEX NUMBERS:"
   ]
  },
  {
   "cell_type": "code",
   "execution_count": 9,
   "id": "a0631faa",
   "metadata": {},
   "outputs": [
    {
     "data": {
      "text/latex": [
       "$\\displaystyle \\frac{(4+2j)}{2} = (2+1j)$"
      ],
      "text/plain": [
       "<IPython.core.display.Math object>"
      ]
     },
     "metadata": {},
     "output_type": "display_data"
    }
   ],
   "source": [
    "z = complex(4, 2)\n",
    "display(Math(\"\\\\frac{%s}{2} = %s\" % (z, z / 2)))"
   ]
  },
  {
   "cell_type": "code",
   "execution_count": 10,
   "id": "3e484150",
   "metadata": {},
   "outputs": [
    {
     "data": {
      "text/latex": [
       "$\\displaystyle \\frac{(4+2j)}{(2-3j)} = \\frac{(2-3j)\\times(2+3j)}{(2-3j)\\times(2+3j)} = (0.15384615384615383+1.2307692307692308j)$"
      ],
      "text/plain": [
       "<IPython.core.display.Math object>"
      ]
     },
     "metadata": {},
     "output_type": "display_data"
    }
   ],
   "source": [
    "z1 = complex(4, 2)\n",
    "z2 = complex(2, -3)\n",
    "\n",
    "display(\n",
    "    Math(\n",
    "        \"\\\\frac{%s}{%s} = \\\\frac{%s\\\\times%s}{%s\\\\times%s} = %s\"\n",
    "        % (z1, z2, z2, np.conj(z2), z2, np.conj(z2), z1 / z2),\n",
    "    )\n",
    ")"
   ]
  },
  {
   "cell_type": "markdown",
   "id": "339122cd",
   "metadata": {},
   "source": [
    "#### EXERCISE:"
   ]
  },
  {
   "cell_type": "code",
   "execution_count": 11,
   "id": "e9ce2acf",
   "metadata": {},
   "outputs": [
    {
     "data": {
      "text/plain": [
       "(1+0j)"
      ]
     },
     "execution_count": 11,
     "metadata": {},
     "output_type": "execute_result"
    }
   ],
   "source": [
    "# Simplyfying a very large equation\n",
    "\n",
    "z = complex(4, 2)\n",
    "w = complex(3, 5)\n",
    "\n",
    "left_numer = (z - 1) * (z * w + w)\n",
    "left_denom = w * z - w\n",
    "left_part = left_numer / left_denom\n",
    "\n",
    "right_numer = (w - 1) * (1 - w)\n",
    "right_denom = -(w**2) * z - w**2 + 2 * w * z + 2 * w - z - 1\n",
    "right_part = right_numer / right_denom\n",
    "\n",
    "solution = left_part * right_part\n",
    "solution"
   ]
  }
 ],
 "metadata": {
  "kernelspec": {
   "display_name": "venv (3.13.3)",
   "language": "python",
   "name": "python3"
  },
  "language_info": {
   "codemirror_mode": {
    "name": "ipython",
    "version": 3
   },
   "file_extension": ".py",
   "mimetype": "text/x-python",
   "name": "python",
   "nbconvert_exporter": "python",
   "pygments_lexer": "ipython3",
   "version": "3.13.3"
  }
 },
 "nbformat": 4,
 "nbformat_minor": 5
}
