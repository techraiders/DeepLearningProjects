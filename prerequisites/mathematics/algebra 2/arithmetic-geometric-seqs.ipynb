{
 "cells": [
  {
   "cell_type": "markdown",
   "id": "82d33a7b",
   "metadata": {},
   "source": [
    "### ARITHMETIC SEQUENCES AND GEOMETRIC SEQUENCES"
   ]
  },
  {
   "cell_type": "code",
   "execution_count": 1,
   "id": "cd3780a7",
   "metadata": {},
   "outputs": [],
   "source": [
    "import numpy as np\n",
    "import matplotlib.pyplot as plt"
   ]
  },
  {
   "cell_type": "code",
   "execution_count": 2,
   "id": "5206e45e",
   "metadata": {},
   "outputs": [
    {
     "name": "stdout",
     "output_type": "stream",
     "text": [
      "[ 1  8 15 22 29 36]\n"
     ]
    }
   ],
   "source": [
    "# arithmetic sequence\n",
    "a = 1\n",
    "d = 7\n",
    "maxn = 6\n",
    "\n",
    "ariseq = a + d * np.arange(0, maxn)\n",
    "print(ariseq)"
   ]
  },
  {
   "cell_type": "code",
   "execution_count": 3,
   "id": "8847cbd8",
   "metadata": {},
   "outputs": [
    {
     "name": "stdout",
     "output_type": "stream",
     "text": [
      "[  2   6  18  54 162 486]\n"
     ]
    }
   ],
   "source": [
    "# geometric sequence\n",
    "a = 2\n",
    "r = 3\n",
    "\n",
    "geoseq = a * r ** np.arange(0, maxn)\n",
    "print(geoseq)"
   ]
  },
  {
   "cell_type": "code",
   "execution_count": 4,
   "id": "bb41a5d8",
   "metadata": {},
   "outputs": [
    {
     "data": {
      "image/png": "[encoded data removed]",
      "text/plain": [
       "<Figure size 640x480 with 1 Axes>"
      ]
     },
     "metadata": {},
     "output_type": "display_data"
    }
   ],
   "source": [
    "plt.plot(ariseq, \"ks\", label=\"arithmetic\")\n",
    "plt.plot(geoseq, \"rs\", label=\"geometric\")\n",
    "plt.legend()\n",
    "plt.show()"
   ]
  },
  {
   "cell_type": "markdown",
   "id": "34ff213b",
   "metadata": {},
   "source": [
    "#### EXERCISE"
   ]
  },
  {
   "cell_type": "code",
   "execution_count": 5,
   "id": "6dd05f08",
   "metadata": {},
   "outputs": [
    {
     "name": "stdout",
     "output_type": "stream",
     "text": [
      "[ 2  5  8 11 14 17 20 23 26 29]\n"
     ]
    }
   ],
   "source": [
    "# sequence\n",
    "a = 2\n",
    "d = 3\n",
    "maxn = 10\n",
    "\n",
    "ariseq = a + d * np.arange(0, maxn)\n",
    "print(ariseq)"
   ]
  },
  {
   "cell_type": "code",
   "execution_count": 6,
   "id": "94bcd26e",
   "metadata": {},
   "outputs": [
    {
     "name": "stdout",
     "output_type": "stream",
     "text": [
      "17 17\n",
      "486 486\n"
     ]
    }
   ],
   "source": [
    "a = 2\n",
    "d = 3\n",
    "maxn = 10\n",
    "nth = 6\n",
    "\n",
    "# compute the sequences\n",
    "ariseq = a + d * np.arange(0, maxn)\n",
    "geoseq = a * d ** np.arange(0, maxn)\n",
    "\n",
    "# direct computation\n",
    "ariDirect = a + d * (nth - 1)\n",
    "geoDirect = a * d ** (nth - 1)\n",
    "\n",
    "print(ariDirect, ariseq[nth - 1])\n",
    "print(geoDirect, geoseq[nth - 1])"
   ]
  }
 ],
 "metadata": {
  "kernelspec": {
   "display_name": "venv (3.13.3)",
   "language": "python",
   "name": "python3"
  },
  "language_info": {
   "codemirror_mode": {
    "name": "ipython",
    "version": 3
   },
   "file_extension": ".py",
   "mimetype": "text/x-python",
   "name": "python",
   "nbconvert_exporter": "python",
   "pygments_lexer": "ipython3",
   "version": "3.13.3"
  }
 },
 "nbformat": 4,
 "nbformat_minor": 5
}
