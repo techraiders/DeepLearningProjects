{
 "cells": [
  {
   "cell_type": "markdown",
   "id": "d6b3b46f",
   "metadata": {},
   "source": [
    "### QUADRATIC EQUATIONS"
   ]
  },
  {
   "cell_type": "code",
   "execution_count": 1,
   "id": "8abe332c",
   "metadata": {},
   "outputs": [],
   "source": [
    "import numpy as np\n",
    "import matplotlib.pyplot as plt"
   ]
  },
  {
   "cell_type": "code",
   "execution_count": 2,
   "id": "7db8259e",
   "metadata": {},
   "outputs": [
    {
     "name": "stdout",
     "output_type": "stream",
     "text": [
      "(-2.906717751485092+0j) (-1.1666666666666665-0.5527707983925666j)\n"
     ]
    }
   ],
   "source": [
    "a = 3\n",
    "b = 7\n",
    "c = 5\n",
    "\n",
    "quadeqP = (-b - np.sqrt(b**2 + 4 * a * c, dtype=complex)) / (2 * a)\n",
    "quadeqN = (-b - np.sqrt(b**2 - 4 * a * c, dtype=complex)) / (2 * a)\n",
    "\n",
    "print(quadeqP, quadeqN)"
   ]
  },
  {
   "cell_type": "code",
   "execution_count": 3,
   "id": "aca962a6",
   "metadata": {},
   "outputs": [
    {
     "name": "stdout",
     "output_type": "stream",
     "text": [
      "1.0\n",
      "1j\n"
     ]
    }
   ],
   "source": [
    "print(np.sqrt(1))  # use the regular np.sqrt function for real-valued results\n",
    "print(\n",
    "    np.lib.scimath.sqrt(-1)\n",
    ")  # use numpy's scimath.sqrt function if you expect complex-valued results"
   ]
  },
  {
   "cell_type": "code",
   "execution_count": 4,
   "id": "6e1715ed",
   "metadata": {},
   "outputs": [
    {
     "name": "stdout",
     "output_type": "stream",
     "text": [
      "[-1. +0.j -2.5+0.j]\n"
     ]
    }
   ],
   "source": [
    "def quadeq(a, b, c):\n",
    "    out = np.zeros(2, dtype=complex)\n",
    "    out[0] = (-b + np.lib.scimath.sqrt(b**2 - 4 * a * c)) / (2 * a)\n",
    "    out[1] = (-b - np.lib.scimath.sqrt(b**2 - 4 * a * c)) / (2 * a)\n",
    "    return out\n",
    "\n",
    "\n",
    "sol = quadeq(2, 7, 5)\n",
    "print(sol)"
   ]
  },
  {
   "cell_type": "markdown",
   "id": "bccb8d4b",
   "metadata": {},
   "source": [
    "### EXERCISE"
   ]
  },
  {
   "cell_type": "code",
   "execution_count": 5,
   "id": "d1d565df",
   "metadata": {},
   "outputs": [
    {
     "data": {
      "image/png": "[encoded data removed]",
      "text/plain": [
       "<Figure size 640x480 with 3 Axes>"
      ]
     },
     "metadata": {},
     "output_type": "display_data"
    }
   ],
   "source": [
    "a = 1\n",
    "b = range(-5, 6)\n",
    "c = range(-2, 11)\n",
    "\n",
    "M = np.zeros((len(b), len(c)), dtype=complex)\n",
    "\n",
    "for bi in range(0, len(b)):\n",
    "    for ci in range(0, len(c)):\n",
    "        M[bi, ci] = quadeq(a, b[bi], c[ci])[0]\n",
    "\n",
    "plt.subplot(1, 3, 1)\n",
    "plt.imshow(np.real(M), extent=[c[0], c[-1], b[0], b[-1]])\n",
    "# plt.axis(\"off\")\n",
    "plt.title(\"real part\")\n",
    "\n",
    "plt.subplot(1, 3, 2)\n",
    "plt.imshow(np.imag(M), extent=[c[0], c[-1], b[0], b[-1]])\n",
    "plt.axis(\"off\")\n",
    "plt.title(\"imag part\")\n",
    "\n",
    "plt.subplot(1, 3, 3)\n",
    "plt.imshow(np.absolute(M), extent=[c[0], c[-1], b[0], b[-1]])\n",
    "plt.axis(\"off\")\n",
    "plt.title(\"magnitude\")\n",
    "\n",
    "plt.show()"
   ]
  }
 ],
 "metadata": {
  "kernelspec": {
   "display_name": "venv (3.13.3)",
   "language": "python",
   "name": "python3"
  },
  "language_info": {
   "codemirror_mode": {
    "name": "ipython",
    "version": 3
   },
   "file_extension": ".py",
   "mimetype": "text/x-python",
   "name": "python",
   "nbconvert_exporter": "python",
   "pygments_lexer": "ipython3",
   "version": "3.13.3"
  }
 },
 "nbformat": 4,
 "nbformat_minor": 5
}
