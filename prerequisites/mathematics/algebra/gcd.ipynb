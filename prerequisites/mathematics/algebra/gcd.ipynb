{
 "cells": [
  {
   "cell_type": "markdown",
   "id": "b8a8f93b",
   "metadata": {},
   "source": [
    "#### GREATEST COMMON DENOMINATOR"
   ]
  },
  {
   "cell_type": "code",
   "execution_count": 1,
   "id": "1225e20b",
   "metadata": {},
   "outputs": [
    {
     "data": {
      "text/plain": [
       "4"
      ]
     },
     "execution_count": 1,
     "metadata": {},
     "output_type": "execute_result"
    }
   ],
   "source": [
    "import math\n",
    "from IPython.display import display, Math\n",
    "\n",
    "math.gcd(4,16)"
   ]
  },
  {
   "cell_type": "code",
   "execution_count": 2,
   "id": "b0a9b322",
   "metadata": {},
   "outputs": [
    {
     "data": {
      "text/plain": [
       "8"
      ]
     },
     "metadata": {},
     "output_type": "display_data"
    },
    {
     "data": {
      "text/latex": [
       "$\\displaystyle \\frac{16}{88}= \\frac{2\\times 8}{11\\times8}$"
      ],
      "text/plain": [
       "<IPython.core.display.Math object>"
      ]
     },
     "metadata": {},
     "output_type": "display_data"
    }
   ],
   "source": [
    "# application\n",
    "a = 16\n",
    "b = 88\n",
    "\n",
    "gcd = math.gcd(a,b)\n",
    "display(gcd)\n",
    "display(Math('\\\\frac{%g}{%g}= \\\\frac{%g\\\\times %g}{%g\\\\times%g}' %(a,b,a/gcd, gcd, b/gcd, gcd)))"
   ]
  }
 ],
 "metadata": {
  "kernelspec": {
   "display_name": "venv (3.13.3)",
   "language": "python",
   "name": "python3"
  },
  "language_info": {
   "codemirror_mode": {
    "name": "ipython",
    "version": 3
   },
   "file_extension": ".py",
   "mimetype": "text/x-python",
   "name": "python",
   "nbconvert_exporter": "python",
   "pygments_lexer": "ipython3",
   "version": "3.13.3"
  }
 },
 "nbformat": 4,
 "nbformat_minor": 5
}
