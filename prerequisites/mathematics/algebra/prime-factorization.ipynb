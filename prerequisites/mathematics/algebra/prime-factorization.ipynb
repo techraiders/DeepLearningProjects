{
 "cells": [
  {
   "cell_type": "code",
   "execution_count": 1,
   "id": "ea0161f7",
   "metadata": {},
   "outputs": [
    {
     "name": "stdout",
     "output_type": "stream",
     "text": [
      "{2: 4, 3: 1}\n",
      "dict_keys([2, 3])\n",
      "[2, 3]\n"
     ]
    }
   ],
   "source": [
    "import sympy as sym\n",
    "\n",
    "number = 48 # i.e. 2*2*2*2 x 3 i.e. 2^4 * 3^1\n",
    "fact_dict = sym.factorint(number)\n",
    "\n",
    "print(fact_dict)\n",
    "print(fact_dict.keys())\n",
    "print(list(fact_dict.keys()))"
   ]
  },
  {
   "cell_type": "code",
   "execution_count": 2,
   "id": "1f640639",
   "metadata": {},
   "outputs": [
    {
     "name": "stdout",
     "output_type": "stream",
     "text": [
      "2 is a prime number\n",
      "3 is a prime number\n",
      "4 is a composite number with prime factors: [2]\n",
      "5 is a prime number\n",
      "6 is a composite number with prime factors: [2, 3]\n",
      "7 is a prime number\n",
      "8 is a composite number with prime factors: [2]\n",
      "9 is a composite number with prime factors: [3]\n",
      "10 is a composite number with prime factors: [2, 5]\n",
      "11 is a prime number\n",
      "12 is a composite number with prime factors: [2, 3]\n",
      "13 is a prime number\n",
      "14 is a composite number with prime factors: [2, 7]\n",
      "15 is a composite number with prime factors: [3, 5]\n",
      "16 is a composite number with prime factors: [2]\n",
      "17 is a prime number\n",
      "18 is a composite number with prime factors: [2, 3]\n",
      "19 is a prime number\n",
      "20 is a composite number with prime factors: [2, 5]\n",
      "21 is a composite number with prime factors: [3, 7]\n",
      "22 is a composite number with prime factors: [2, 11]\n",
      "23 is a prime number\n",
      "24 is a composite number with prime factors: [2, 3]\n",
      "25 is a composite number with prime factors: [5]\n",
      "26 is a composite number with prime factors: [2, 13]\n",
      "27 is a composite number with prime factors: [3]\n",
      "28 is a composite number with prime factors: [2, 7]\n",
      "29 is a prime number\n",
      "30 is a composite number with prime factors: [2, 3, 5]\n",
      "31 is a prime number\n",
      "32 is a composite number with prime factors: [2]\n",
      "33 is a composite number with prime factors: [3, 11]\n",
      "34 is a composite number with prime factors: [2, 17]\n",
      "35 is a composite number with prime factors: [5, 7]\n",
      "36 is a composite number with prime factors: [2, 3]\n",
      "37 is a prime number\n",
      "38 is a composite number with prime factors: [2, 19]\n",
      "39 is a composite number with prime factors: [3, 13]\n",
      "40 is a composite number with prime factors: [2, 5]\n",
      "41 is a prime number\n",
      "42 is a composite number with prime factors: [2, 3, 7]\n",
      "43 is a prime number\n",
      "44 is a composite number with prime factors: [2, 11]\n",
      "45 is a composite number with prime factors: [3, 5]\n",
      "46 is a composite number with prime factors: [2, 23]\n",
      "47 is a prime number\n",
      "48 is a composite number with prime factors: [2, 3]\n",
      "49 is a composite number with prime factors: [7]\n",
      "50 is a composite number with prime factors: [2, 5]\n"
     ]
    }
   ],
   "source": [
    "nums = range(2,51)\n",
    "\n",
    "for numi in nums:\n",
    "    di = sym.factorint(numi)\n",
    "    ks = list(di.keys())\n",
    "    if len(di) == 1 and di[ks[0]] == 1:\n",
    "        print('%g is a prime number' %numi)\n",
    "    else:\n",
    "        print('%g is a composite number with prime factors: %s' %(numi, list(di.keys())))"
   ]
  }
 ],
 "metadata": {
  "kernelspec": {
   "display_name": "venv (3.13.3)",
   "language": "python",
   "name": "python3"
  },
  "language_info": {
   "codemirror_mode": {
    "name": "ipython",
    "version": 3
   },
   "file_extension": ".py",
   "mimetype": "text/x-python",
   "name": "python",
   "nbconvert_exporter": "python",
   "pygments_lexer": "ipython3",
   "version": "3.13.3"
  }
 },
 "nbformat": 4,
 "nbformat_minor": 5
}
