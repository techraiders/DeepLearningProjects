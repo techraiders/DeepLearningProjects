{
 "cells": [
  {
   "cell_type": "code",
   "execution_count": 1,
   "id": "58984999",
   "metadata": {},
   "outputs": [
    {
     "data": {
      "text/latex": [
       "$\\displaystyle 2 x^{3} + x^{2} - x$"
      ],
      "text/plain": [
       "2*x**3 + x**2 - x"
      ]
     },
     "metadata": {},
     "output_type": "display_data"
    },
    {
     "data": {
      "text/latex": [
       "$\\displaystyle - x^{4} + x^{3} - 4 x^{2}$"
      ],
      "text/plain": [
       "-x**4 + x**3 - 4*x**2"
      ]
     },
     "metadata": {},
     "output_type": "display_data"
    },
    {
     "data": {
      "text/latex": [
       "$\\displaystyle \\text p1+p2 = (2 x^{3} + x^{2} - x) + (- x^{4} + x^{3} - 4 x^{2}) = - x^{4} + 3 x^{3} - 3 x^{2} - x$"
      ],
      "text/plain": [
       "<IPython.core.display.Math object>"
      ]
     },
     "metadata": {},
     "output_type": "display_data"
    }
   ],
   "source": [
    "import sympy as sym\n",
    "from IPython.display import display, Math\n",
    "\n",
    "from sympy.abc import x\n",
    "\n",
    "p1 = 2*x**3 + x**2 - x\n",
    "p2 = x**3 - x**4 - 4*x**2\n",
    "\n",
    "display(p1)\n",
    "display(p2)\n",
    "display(Math('\\\\text p1+p2 = (%s) + (%s) = %s' %(sym.latex(p1), sym.latex(p2), sym.latex(p1+p2))))"
   ]
  },
  {
   "cell_type": "code",
   "execution_count": 2,
   "id": "c18e3a96",
   "metadata": {},
   "outputs": [
    {
     "data": {
      "text/plain": [
       "[2, 1, -1]"
      ]
     },
     "metadata": {},
     "output_type": "display_data"
    },
    {
     "data": {
      "text/latex": [
       "$\\displaystyle 2$"
      ],
      "text/plain": [
       "2"
      ]
     },
     "execution_count": 2,
     "metadata": {},
     "output_type": "execute_result"
    }
   ],
   "source": [
    "# another way to create polinomials\n",
    "p1 = sym.Poly(x**2 + 2*x**3 - x)\n",
    "type(p1)\n",
    "display(p1.coeffs())\n",
    "p1.eval(1)\n"
   ]
  }
 ],
 "metadata": {
  "kernelspec": {
   "display_name": "venv (3.13.3)",
   "language": "python",
   "name": "python3"
  },
  "language_info": {
   "codemirror_mode": {
    "name": "ipython",
    "version": 3
   },
   "file_extension": ".py",
   "mimetype": "text/x-python",
   "name": "python",
   "nbconvert_exporter": "python",
   "pygments_lexer": "ipython3",
   "version": "3.13.3"
  }
 },
 "nbformat": 4,
 "nbformat_minor": 5
}
