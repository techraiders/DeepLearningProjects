{
 "cells": [
  {
   "cell_type": "markdown",
   "id": "bbbccae8",
   "metadata": {},
   "source": [
    "### Introduction to sympy"
   ]
  },
  {
   "cell_type": "code",
   "execution_count": 1,
   "id": "ca3f754f",
   "metadata": {},
   "outputs": [
    {
     "data": {
      "image/png": "[encoded data removed]",
      "text/latex": [
       "$\\displaystyle x$"
      ],
      "text/plain": [
       "x"
      ]
     },
     "execution_count": 1,
     "metadata": {},
     "output_type": "execute_result"
    }
   ],
   "source": [
    "import sympy as sym\n",
    "import numpy as np\n",
    "\n",
    "sym.init_printing()\n",
    "from IPython.display import display, Math\n",
    "\n",
    "x, y = sym.symbols(\"x,y\")\n",
    "x"
   ]
  },
  {
   "cell_type": "code",
   "execution_count": 2,
   "id": "2b1d9405",
   "metadata": {},
   "outputs": [
    {
     "data": {
      "image/png": "[encoded data removed]",
      "text/latex": [
       "$\\displaystyle y + 4$"
      ],
      "text/plain": [
       "y + 4"
      ]
     },
     "execution_count": 2,
     "metadata": {},
     "output_type": "execute_result"
    }
   ],
   "source": [
    "y + 4"
   ]
  },
  {
   "cell_type": "code",
   "execution_count": 3,
   "id": "1e0cbe46",
   "metadata": {},
   "outputs": [
    {
     "data": {
      "image/png": "[encoded data removed]",
      "text/latex": [
       "$\\displaystyle x^{y}$"
      ],
      "text/plain": [
       " y\n",
       "x "
      ]
     },
     "metadata": {},
     "output_type": "display_data"
    },
    {
     "data": {
      "image/png": "[encoded data removed]",
      "text/latex": [
       "$\\displaystyle \\frac{x}{y}$"
      ],
      "text/plain": [
       "x\n",
       "─\n",
       "y"
      ]
     },
     "metadata": {},
     "output_type": "display_data"
    }
   ],
   "source": [
    "display(x**y)\n",
    "display(x / y)"
   ]
  },
  {
   "cell_type": "code",
   "execution_count": 4,
   "id": "b8947fba",
   "metadata": {},
   "outputs": [
    {
     "data": {
      "image/png": "[encoded data removed]",
      "text/latex": [
       "$\\displaystyle 1.4142135623731$"
      ],
      "text/plain": [
       "np.float64(1.4142135623730951)"
      ]
     },
     "metadata": {},
     "output_type": "display_data"
    },
    {
     "data": {
      "image/png": "[encoded data removed]",
      "text/latex": [
       "$\\displaystyle \\sqrt{2}$"
      ],
      "text/plain": [
       "√2"
      ]
     },
     "metadata": {},
     "output_type": "display_data"
    }
   ],
   "source": [
    "display(np.sqrt(2))\n",
    "display(sym.sqrt(2))"
   ]
  },
  {
   "cell_type": "code",
   "execution_count": 5,
   "id": "163e83a9",
   "metadata": {},
   "outputs": [
    {
     "data": {
      "image/png": "[encoded data removed]",
      "text/latex": [
       "$\\displaystyle x^{2} y$"
      ],
      "text/plain": [
       " 2  \n",
       "x ⋅y"
      ]
     },
     "metadata": {},
     "output_type": "display_data"
    },
    {
     "data": {
      "image/png": "[encoded data removed]",
      "text/latex": [
       "$\\displaystyle 2 x$"
      ],
      "text/plain": [
       "2⋅x"
      ]
     },
     "metadata": {},
     "output_type": "display_data"
    },
    {
     "data": {
      "image/png": "[encoded data removed]",
      "text/latex": [
       "$\\displaystyle x$"
      ],
      "text/plain": [
       "x"
      ]
     },
     "metadata": {},
     "output_type": "display_data"
    }
   ],
   "source": [
    "# 1)\n",
    "display(y * x**2)\n",
    "\n",
    "# 2)\n",
    "display(sym.sqrt(4) * x)\n",
    "\n",
    "# 3)\n",
    "display(sym.sqrt(x) * sym.sqrt(x))"
   ]
  },
  {
   "cell_type": "code",
   "execution_count": 6,
   "id": "cfbeb310",
   "metadata": {},
   "outputs": [
    {
     "data": {
      "image/png": "[encoded data removed]",
      "text/latex": [
       "$\\displaystyle e^{\\frac{\\left(- \\alpha + \\mu\\right)^{2}}{2 \\sigma^{2}}}$"
      ],
      "text/plain": [
       "         2\n",
       " (-α + μ) \n",
       " ─────────\n",
       "      2   \n",
       "   2⋅σ    \n",
       "ℯ         "
      ]
     },
     "metadata": {},
     "output_type": "display_data"
    }
   ],
   "source": [
    "mu, alpha, sigma = sym.symbols(\"mu, alpha, sigma\")\n",
    "expr = sym.exp((mu - alpha) ** 2 / (2 * sigma**2))\n",
    "display(expr)"
   ]
  },
  {
   "cell_type": "code",
   "execution_count": 7,
   "id": "28c0a84a",
   "metadata": {},
   "outputs": [
    {
     "data": {
      "image/png": "[encoded data removed]",
      "text/latex": [
       "$\\displaystyle \\frac{hello}{3}$"
      ],
      "text/plain": [
       "hello\n",
       "─────\n",
       "  3  "
      ]
     },
     "execution_count": 7,
     "metadata": {},
     "output_type": "execute_result"
    }
   ],
   "source": [
    "hello = sym.symbols(\"hello\")\n",
    "hello / 3"
   ]
  },
  {
   "cell_type": "code",
   "execution_count": 8,
   "id": "b79f15d7",
   "metadata": {},
   "outputs": [
    {
     "data": {
      "image/png": "[encoded data removed]",
      "text/latex": [
       "$\\displaystyle 6$"
      ],
      "text/plain": [
       "6"
      ]
     },
     "execution_count": 8,
     "metadata": {},
     "output_type": "execute_result"
    }
   ],
   "source": [
    "x, y = sym.symbols(\"x,y\")\n",
    "expr = x + 4 + 2 * y\n",
    "expr.subs({x: -4, y: 3})"
   ]
  },
  {
   "cell_type": "code",
   "execution_count": 9,
   "id": "4337a2c1",
   "metadata": {},
   "outputs": [
    {
     "data": {
      "text/latex": [
       "$\\displaystyle \\frac{3}{x}$"
      ],
      "text/plain": [
       "<IPython.core.display.Math object>"
      ]
     },
     "metadata": {},
     "output_type": "display_data"
    },
    {
     "data": {
      "text/latex": [
       "$\\displaystyle \\frac{3}{4}$"
      ],
      "text/plain": [
       "<IPython.core.display.Math object>"
      ]
     },
     "metadata": {},
     "output_type": "display_data"
    }
   ],
   "source": [
    "expr = 3 / x\n",
    "display(Math(sym.latex(expr)))\n",
    "display(Math(sym.latex(sym.sympify(\"3/4\"))))"
   ]
  },
  {
   "cell_type": "code",
   "execution_count": 10,
   "id": "16e72071",
   "metadata": {},
   "outputs": [
    {
     "data": {
      "image/png": "[encoded data removed]",
      "text/latex": [
       "$\\displaystyle x^{2} + 4$"
      ],
      "text/plain": [
       " 2    \n",
       "x  + 4"
      ]
     },
     "metadata": {},
     "output_type": "display_data"
    },
    {
     "data": {
      "text/latex": [
       "$\\displaystyle \\text{with }x=-2, x^2+4 \\quad \\Rightarrow \\quad -2^2+4 = 8$"
      ],
      "text/plain": [
       "<IPython.core.display.Math object>"
      ]
     },
     "metadata": {},
     "output_type": "display_data"
    },
    {
     "data": {
      "text/latex": [
       "$\\displaystyle \\text{with }x=-2, x^2+4 \\quad \\Rightarrow \\quad -2^2+4 = 8$"
      ],
      "text/plain": [
       "<IPython.core.display.Math object>"
      ]
     },
     "metadata": {},
     "output_type": "display_data"
    },
    {
     "name": "stdout",
     "output_type": "stream",
     "text": [
      "---------- IN THE RANGE OF -2 AND 3---------\n"
     ]
    },
    {
     "data": {
      "text/latex": [
       "$\\displaystyle \\text{with }x= -2, x^2+4 \\quad \\Rightarrow \\quad -2^2+4 = 8$"
      ],
      "text/plain": [
       "<IPython.core.display.Math object>"
      ]
     },
     "metadata": {},
     "output_type": "display_data"
    },
    {
     "data": {
      "text/latex": [
       "$\\displaystyle \\text{with }x= -1, x^2+4 \\quad \\Rightarrow \\quad -1^2+4 = 5$"
      ],
      "text/plain": [
       "<IPython.core.display.Math object>"
      ]
     },
     "metadata": {},
     "output_type": "display_data"
    },
    {
     "data": {
      "text/latex": [
       "$\\displaystyle \\text{with }x= 0, x^2+4 \\quad \\Rightarrow \\quad 0^2+4 = 4$"
      ],
      "text/plain": [
       "<IPython.core.display.Math object>"
      ]
     },
     "metadata": {},
     "output_type": "display_data"
    },
    {
     "data": {
      "text/latex": [
       "$\\displaystyle \\text{with }x= 1, x^2+4 \\quad \\Rightarrow \\quad 1^2+4 = 5$"
      ],
      "text/plain": [
       "<IPython.core.display.Math object>"
      ]
     },
     "metadata": {},
     "output_type": "display_data"
    },
    {
     "data": {
      "text/latex": [
       "$\\displaystyle \\text{with }x= 2, x^2+4 \\quad \\Rightarrow \\quad 2^2+4 = 8$"
      ],
      "text/plain": [
       "<IPython.core.display.Math object>"
      ]
     },
     "metadata": {},
     "output_type": "display_data"
    }
   ],
   "source": [
    "expr = x**2 + 4\n",
    "display(expr)\n",
    "display(Math(\"\\\\text{with }x=-2, x^2+4 \\\\quad \\\\Rightarrow \\\\quad -2^2+4 = 8\"))\n",
    "display(\n",
    "    Math(\n",
    "        \"\\\\text{with }x=%g, x^2+4 \\\\quad \\\\Rightarrow \\\\quad %g^2+4 = %g\"\n",
    "        % (-2, -2, expr.subs(x, -2))\n",
    "    )\n",
    ")\n",
    "\n",
    "print(\"---------- IN THE RANGE OF -2 AND 3---------\")\n",
    "for i in range(-2, 3):\n",
    "    display(\n",
    "        Math(\n",
    "            \"\\\\text{with }x= %g, x^2+4 \\\\quad \\\\Rightarrow \\\\quad %g^2+4 = %g\"\n",
    "            % (i, i, expr.subs(x, i))\n",
    "        )\n",
    "    )"
   ]
  },
  {
   "cell_type": "code",
   "execution_count": 11,
   "id": "a914657d",
   "metadata": {},
   "outputs": [
    {
     "name": "stdout",
     "output_type": "stream",
     "text": [
      "---------- PUTTING ENTIRE EXPRESSION IN THE LOOP ----------\n"
     ]
    },
    {
     "data": {
      "text/latex": [
       "$\\displaystyle \\text {with } x=-2, x^2+4 \\quad \\Rightarrow \\quad -2^2+4=8$"
      ],
      "text/plain": [
       "<IPython.core.display.Math object>"
      ]
     },
     "metadata": {},
     "output_type": "display_data"
    },
    {
     "data": {
      "text/latex": [
       "$\\displaystyle \\text {with } x=-1, x^2+4 \\quad \\Rightarrow \\quad -1^2+4=5$"
      ],
      "text/plain": [
       "<IPython.core.display.Math object>"
      ]
     },
     "metadata": {},
     "output_type": "display_data"
    },
    {
     "data": {
      "text/latex": [
       "$\\displaystyle \\text {with } x=0, x^2+4 \\quad \\Rightarrow \\quad 0^2+4=4$"
      ],
      "text/plain": [
       "<IPython.core.display.Math object>"
      ]
     },
     "metadata": {},
     "output_type": "display_data"
    },
    {
     "data": {
      "text/latex": [
       "$\\displaystyle \\text {with } x=1, x^2+4 \\quad \\Rightarrow \\quad 1^2+4=5$"
      ],
      "text/plain": [
       "<IPython.core.display.Math object>"
      ]
     },
     "metadata": {},
     "output_type": "display_data"
    },
    {
     "data": {
      "text/latex": [
       "$\\displaystyle \\text {with } x=2, x^2+4 \\quad \\Rightarrow \\quad 2^2+4=8$"
      ],
      "text/plain": [
       "<IPython.core.display.Math object>"
      ]
     },
     "metadata": {},
     "output_type": "display_data"
    }
   ],
   "source": [
    "print(\"---------- PUTTING ENTIRE EXPRESSION IN THE LOOP ----------\")\n",
    "for i in range(-2, 3):\n",
    "    ans = (x + 4).subs(x, i**2)\n",
    "    display(\n",
    "        Math(\n",
    "            \"\\\\text {with } x=%g, x^2+4 \\\\quad \\\\Rightarrow \\\\quad %g^2+4=%g\"\n",
    "            % (i, i, ans)\n",
    "        )\n",
    "    )"
   ]
  },
  {
   "cell_type": "code",
   "execution_count": 12,
   "id": "493a2286",
   "metadata": {},
   "outputs": [
    {
     "data": {
      "text/latex": [
       "$\\displaystyle \\frac{\\frac{3}{x}}{y}$"
      ],
      "text/plain": [
       "<IPython.core.display.Math object>"
      ]
     },
     "execution_count": 12,
     "metadata": {},
     "output_type": "execute_result"
    }
   ],
   "source": [
    "x,y = sym.symbols('x,y')\n",
    "expr = 3/x\n",
    "\n",
    "Math('\\\\frac{%s}{%s}' %(sym.latex(expr), y))"
   ]
  }
 ],
 "metadata": {
  "kernelspec": {
   "display_name": "Python 3",
   "language": "python",
   "name": "python3"
  },
  "language_info": {
   "codemirror_mode": {
    "name": "ipython",
    "version": 3
   },
   "file_extension": ".py",
   "mimetype": "text/x-python",
   "name": "python",
   "nbconvert_exporter": "python",
   "pygments_lexer": "ipython3",
   "version": "3.13.3"
  }
 },
 "nbformat": 4,
 "nbformat_minor": 5
}
