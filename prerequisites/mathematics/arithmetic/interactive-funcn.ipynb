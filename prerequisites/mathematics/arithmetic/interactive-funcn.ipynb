{
 "cells": [
  {
   "cell_type": "code",
   "execution_count": null,
   "id": "5bbb5b9e",
   "metadata": {},
   "outputs": [],
   "source": [
    "from numpy.random import randint\n",
    "randint(1,5)\n",
    "\n",
    "# function definition (no input necessary)\n",
    "def guessTheNumber():\n",
    "    # generate a random integer\n",
    "    num2guess = randint(1,101)\n",
    "\n",
    "    # ask the user for a guess\n",
    "    userGuess = int(input('Guess a number between 1 and 100: '))\n",
    "\n",
    "    # check whether the number is a match\n",
    "    while userGuess != num2guess:\n",
    "\n",
    "        # print informative message and ask for another guess\n",
    "        if userGuess < num2guess:\n",
    "            print('Guess higher!')\n",
    "        elif userGuess > num2guess:\n",
    "            print('Guess lower!')\n",
    "\n",
    "        userGuess = int(input('Guess again: '))\n",
    "    \n",
    "    # if the guess is correct, congratulate the user!\n",
    "    print('YES!! You guessed correctly!')\n",
    "\n",
    "guessTheNumber()"
   ]
  }
 ],
 "metadata": {
  "kernelspec": {
   "display_name": "Python 3",
   "language": "python",
   "name": "python3"
  },
  "language_info": {
   "codemirror_mode": {
    "name": "ipython",
    "version": 3
   },
   "file_extension": ".py",
   "mimetype": "text/x-python",
   "name": "python",
   "nbconvert_exporter": "python",
   "pygments_lexer": "ipython3",
   "version": "3.13.3"
  }
 },
 "nbformat": 4,
 "nbformat_minor": 5
}
